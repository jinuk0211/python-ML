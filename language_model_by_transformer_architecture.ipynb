{
  "nbformat": 4,
  "nbformat_minor": 0,
  "metadata": {
    "colab": {
      "provenance": []
    },
    "kernelspec": {
      "name": "python3",
      "display_name": "Python 3"
    },
    "language_info": {
      "name": "python"
    }
  },
  "cells": [
    {
      "cell_type": "code",
      "execution_count": 6,
      "metadata": {
        "id": "yV8OeERYP8V8"
      },
      "outputs": [],
      "source": [
        "import numpy as np\n",
        "import math\n",
        "L,d_k,d_v = 4,8,8,\n",
        "#L = 길이 length of sequence\n",
        "#d = dimension\n",
        "q = np.random.randn(L,d_k)\n",
        "k = np.random.randn(L,d_k)\n",
        "v = np.random.randn(L,d_v)\n",
        "\n"
      ]
    },
    {
      "cell_type": "code",
      "source": [
        "q.shape\n"
      ],
      "metadata": {
        "colab": {
          "base_uri": "https://localhost:8080/"
        },
        "id": "t6yLtODWW1bX",
        "outputId": "47071ad6-2d8e-4ee3-bb23-99a725f7b5d7"
      },
      "execution_count": 18,
      "outputs": [
        {
          "output_type": "execute_result",
          "data": {
            "text/plain": [
              "(4, 8)"
            ]
          },
          "metadata": {},
          "execution_count": 18
        }
      ]
    },
    {
      "cell_type": "code",
      "source": [
        "#q = np.random.randn(L,d_k); q.T.shape;"
      ],
      "metadata": {
        "colab": {
          "base_uri": "https://localhost:8080/"
        },
        "id": "BBk5NTUIW2qj",
        "outputId": "01eae91d-2909-46f1-e990-4ede00e79c07"
      },
      "execution_count": 19,
      "outputs": [
        {
          "output_type": "execute_result",
          "data": {
            "text/plain": [
              "(8, 4)"
            ]
          },
          "metadata": {},
          "execution_count": 19
        }
      ]
    },
    {
      "cell_type": "code",
      "source": [
        "np.matmul(q,k.T) #q*k^^T\n",
        "#.T하는이유 (4,8)*(4,8) shape multiplication은 안됨으로 (4,8)*(8,4)로 만드는거임"
      ],
      "metadata": {
        "colab": {
          "base_uri": "https://localhost:8080/"
        },
        "id": "U1r0h-T_TRDQ",
        "outputId": "1bb73164-d55c-40b7-8be6-ad8e8b0a2c80"
      },
      "execution_count": 7,
      "outputs": [
        {
          "output_type": "execute_result",
          "data": {
            "text/plain": [
              "array([[-0.50107988, -2.03895317, -1.92675236,  1.26607212],\n",
              "       [-0.06259682, -2.85755388,  1.94029806, -0.87769011],\n",
              "       [ 1.89836605, -1.10229663,  6.66723649, -5.2048896 ],\n",
              "       [ 0.50723831, -4.38114975,  4.80747731, -1.3636343 ]])"
            ]
          },
          "metadata": {},
          "execution_count": 7
        }
      ]
    },
    {
      "cell_type": "code",
      "source": [
        "scaled = np.matmul(q,k.T)/ math.sqrt(d_k)\n",
        "\n",
        "# 이게 뭐냐 self attention 의 softmax version\n",
        "#효과\n",
        "q.var(), k.var(), np.matmul(q,k.T).var(), scaled.var()"
      ],
      "metadata": {
        "colab": {
          "base_uri": "https://localhost:8080/"
        },
        "id": "50aulS39Tvi7",
        "outputId": "3ad1f2b6-f9bd-487a-bfc0-a7076e725cc1"
      },
      "execution_count": 8,
      "outputs": [
        {
          "output_type": "execute_result",
          "data": {
            "text/plain": [
              "(0.8958212662555859, 1.1919224751339506, 8.910075266419014, 1.1137594083023767)"
            ]
          },
          "metadata": {},
          "execution_count": 8
        }
      ]
    },
    {
      "cell_type": "code",
      "source": [
        "mask = np.tril(np.ones((L,L))) # value 1 shape L,L 을 대각선으로 값을지움\n",
        "mask\n",
        "mask[mask==0] =-np.infty\n",
        "mask[mask==1] = 0"
      ],
      "metadata": {
        "id": "PQGWNjxXUbrp"
      },
      "execution_count": 13,
      "outputs": []
    },
    {
      "cell_type": "code",
      "source": [
        "scaled + mask # mask된 matrix"
      ],
      "metadata": {
        "colab": {
          "base_uri": "https://localhost:8080/"
        },
        "id": "h58zViKAWIOf",
        "outputId": "8dd8e91d-96f2-43d6-8bce-a4369dd49b6e"
      },
      "execution_count": 14,
      "outputs": [
        {
          "output_type": "execute_result",
          "data": {
            "text/plain": [
              "array([[-0.17715849,        -inf,        -inf,        -inf],\n",
              "       [-0.02213132, -1.01029786,        -inf,        -inf],\n",
              "       [ 0.67117375, -0.38972071,  2.35722407,        -inf],\n",
              "       [ 0.17933582, -1.54897035,  1.6996999 , -0.48211753]])"
            ]
          },
          "metadata": {},
          "execution_count": 14
        }
      ]
    },
    {
      "cell_type": "code",
      "source": [
        "def softmax(x):\n",
        "  return (np.exp(x).T/np.sum(np.exp(x),axis=-1)).T\n",
        "  #axis -1 은 열에따라 합치라는 뜻 shape 3,3에 keepdim 썻으면 3,1로"
      ],
      "metadata": {
        "id": "ti-7hElxXwdl"
      },
      "execution_count": 27,
      "outputs": []
    },
    {
      "cell_type": "code",
      "source": [
        "#array = np.array([[1,2,3],[4,5,6],[7,8,9]])\n",
        "#sum = np.sum(array,axis=0)\n",
        "#sum"
      ],
      "metadata": {
        "id": "kp-jJocaZC5U"
      },
      "execution_count": 29,
      "outputs": []
    },
    {
      "cell_type": "code",
      "source": [
        "attention = softmax(scaled + mask)\n",
        "attention"
      ],
      "metadata": {
        "colab": {
          "base_uri": "https://localhost:8080/"
        },
        "id": "OYuqYxVXaRh-",
        "outputId": "bf3d52f7-643d-4fb2-8940-9594e91b4846"
      },
      "execution_count": 32,
      "outputs": [
        {
          "output_type": "execute_result",
          "data": {
            "text/plain": [
              "array([[1.        , 0.        , 0.        , 0.        ],\n",
              "       [0.72872563, 0.27127437, 0.        , 0.        ],\n",
              "       [0.14827415, 0.05132451, 0.80040133, 0.        ],\n",
              "       [0.15955132, 0.02833391, 0.72977021, 0.08234455]])"
            ]
          },
          "metadata": {},
          "execution_count": 32
        }
      ]
    },
    {
      "cell_type": "code",
      "source": [
        "out = np.matmul(attention,v)\n",
        "out"
      ],
      "metadata": {
        "id": "6pi8DB-ogS-n"
      },
      "execution_count": 35,
      "outputs": []
    },
    {
      "cell_type": "code",
      "source": [
        "import torch\n",
        "import torch.nn as nn\n",
        "import torch.nn.functional as F"
      ],
      "metadata": {
        "id": "z1s9YqXRiSBC"
      },
      "execution_count": 40,
      "outputs": []
    },
    {
      "cell_type": "code",
      "source": [
        "sequence_length = 4\n",
        "batch_size = 1\n",
        "input_dim = 512\n",
        "d_model = 512\n",
        "#hyperparameter 설정\n",
        "\n",
        "# input 생성\n",
        "x=torch.randn((batch_size, sequence_length, input_dim))\n",
        "x"
      ],
      "metadata": {
        "colab": {
          "base_uri": "https://localhost:8080/"
        },
        "id": "iaaE3bwriZ53",
        "outputId": "9145c127-f461-4bac-d98e-3bfdeb913c8c"
      },
      "execution_count": 51,
      "outputs": [
        {
          "output_type": "execute_result",
          "data": {
            "text/plain": [
              "tensor([[[-0.3934,  0.1299,  0.9010,  ..., -0.6986, -1.5063,  0.8542],\n",
              "         [ 1.5634,  1.9696,  0.5767,  ..., -0.8874,  0.1565, -1.0368],\n",
              "         [ 0.1959,  0.4534, -1.2755,  ..., -0.8263,  0.1567, -1.2787],\n",
              "         [ 0.3998,  0.1143,  0.0947,  ..., -0.7793,  0.5126,  0.6687]]])"
            ]
          },
          "metadata": {},
          "execution_count": 51
        }
      ]
    },
    {
      "cell_type": "code",
      "source": [
        "qkv_layer = nn.Linear(input_dim,3*d_model)\n"
      ],
      "metadata": {
        "id": "U_9n5Bxri3rV"
      },
      "execution_count": 52,
      "outputs": []
    },
    {
      "cell_type": "markdown",
      "source": [],
      "metadata": {
        "id": "OFiI4NQklYax"
      }
    },
    {
      "cell_type": "code",
      "source": [
        "qkv = qkv_layer(x)\n"
      ],
      "metadata": {
        "id": "dYLa5XfEjUpO"
      },
      "execution_count": 53,
      "outputs": []
    },
    {
      "cell_type": "code",
      "source": [
        "qkv.shape\n"
      ],
      "metadata": {
        "colab": {
          "base_uri": "https://localhost:8080/"
        },
        "id": "aB7WzFdjjaYQ",
        "outputId": "48de4c00-74e1-4bb3-cf9f-4bb526d7b004"
      },
      "execution_count": 56,
      "outputs": [
        {
          "output_type": "execute_result",
          "data": {
            "text/plain": [
              "torch.Size([1, 4, 1536])"
            ]
          },
          "metadata": {},
          "execution_count": 56
        }
      ]
    },
    {
      "cell_type": "code",
      "source": [
        "#number of heads\"가 8이면 입력 시퀀스는 8개의 부분으로 나눠짐.\n",
        "#각 부분은 각각의 attention head에 의해 독립적으로 처리됨.\n",
        "#각 head는 다양한 특징에 주의를 기울이도록 훈련됨\n",
        "# 보통 8아니면 16\n",
        "nums_heads = 8\n",
        "head_dim = d_model // nums_heads\n",
        "qkv = qkv.reshape(batch_size,sequence_length,nums_head,3*head_dim)\n",
        "qkv.shape"
      ],
      "metadata": {
        "colab": {
          "base_uri": "https://localhost:8080/"
        },
        "id": "n6D8a2IBkDDb",
        "outputId": "ab135b8c-544e-4bbb-89c7-4e4330721d28"
      },
      "execution_count": 64,
      "outputs": [
        {
          "output_type": "execute_result",
          "data": {
            "text/plain": [
              "torch.Size([1, 4, 8, 192])"
            ]
          },
          "metadata": {},
          "execution_count": 64
        }
      ]
    },
    {
      "cell_type": "code",
      "source": [
        "#병렬 처리를 쉽게 하기위해 permute\n",
        "qkv = qkv.permute(0,2,1,3)\n",
        "qkv.shape"
      ],
      "metadata": {
        "colab": {
          "base_uri": "https://localhost:8080/"
        },
        "id": "_ltk3mhzmZZW",
        "outputId": "d5c9cc50-8ce7-4088-d7e8-206dca2d020b"
      },
      "execution_count": 65,
      "outputs": [
        {
          "output_type": "execute_result",
          "data": {
            "text/plain": [
              "torch.Size([1, 8, 4, 192])"
            ]
          },
          "metadata": {},
          "execution_count": 65
        }
      ]
    },
    {
      "cell_type": "code",
      "source": [
        "q, k, v = qkv.chunk(3,dim=-1)\n",
        "#4번쨰 dimension으로 3개로 나눔\n",
        "q.shape"
      ],
      "metadata": {
        "colab": {
          "base_uri": "https://localhost:8080/"
        },
        "id": "UPqyb41Km4CN",
        "outputId": "4b1d37ba-fd91-4d1c-e2b9-75d9e347382f"
      },
      "execution_count": 66,
      "outputs": [
        {
          "output_type": "execute_result",
          "data": {
            "text/plain": [
              "torch.Size([1, 8, 4, 64])"
            ]
          },
          "metadata": {},
          "execution_count": 66
        }
      ]
    },
    {
      "cell_type": "code",
      "source": [
        "#softmax 적용 이번엔 4차원임으로 transpose사용\n",
        "d_k = q.size()[-1]\n",
        "#head_dim으로 설정\n",
        "scaled = torch.matmul(q,k.transpose(-2,-1))/math.sqrt(d_k)\n",
        "scaled.shape"
      ],
      "metadata": {
        "colab": {
          "base_uri": "https://localhost:8080/"
        },
        "id": "SRCCgo_7nJLr",
        "outputId": "9be717ab-570d-41a3-d312-6498775d492f"
      },
      "execution_count": 77,
      "outputs": [
        {
          "output_type": "execute_result",
          "data": {
            "text/plain": [
              "torch.Size([1, 8, 4, 4])"
            ]
          },
          "metadata": {},
          "execution_count": 77
        }
      ]
    },
    {
      "cell_type": "code",
      "source": [
        "k.T.shape #1,8,4,64 -> 64,4,8,1\n",
        "mask = torch.full(scaled.size(),float('-inf'))\n",
        "mask # 1,8,4,4 shape로 inf 만 채워서 생성\n",
        "mask = torch.triu(mask,diagonal=1)\n",
        "mask"
      ],
      "metadata": {
        "colab": {
          "base_uri": "https://localhost:8080/"
        },
        "id": "Vts5RqDsoCTQ",
        "outputId": "dcbef528-dd77-4605-f6fd-5e19367f2719"
      },
      "execution_count": 86,
      "outputs": [
        {
          "output_type": "execute_result",
          "data": {
            "text/plain": [
              "tensor([[[[0., -inf, -inf, -inf],\n",
              "          [0., 0., -inf, -inf],\n",
              "          [0., 0., 0., -inf],\n",
              "          [0., 0., 0., 0.]],\n",
              "\n",
              "         [[0., -inf, -inf, -inf],\n",
              "          [0., 0., -inf, -inf],\n",
              "          [0., 0., 0., -inf],\n",
              "          [0., 0., 0., 0.]],\n",
              "\n",
              "         [[0., -inf, -inf, -inf],\n",
              "          [0., 0., -inf, -inf],\n",
              "          [0., 0., 0., -inf],\n",
              "          [0., 0., 0., 0.]],\n",
              "\n",
              "         [[0., -inf, -inf, -inf],\n",
              "          [0., 0., -inf, -inf],\n",
              "          [0., 0., 0., -inf],\n",
              "          [0., 0., 0., 0.]],\n",
              "\n",
              "         [[0., -inf, -inf, -inf],\n",
              "          [0., 0., -inf, -inf],\n",
              "          [0., 0., 0., -inf],\n",
              "          [0., 0., 0., 0.]],\n",
              "\n",
              "         [[0., -inf, -inf, -inf],\n",
              "          [0., 0., -inf, -inf],\n",
              "          [0., 0., 0., -inf],\n",
              "          [0., 0., 0., 0.]],\n",
              "\n",
              "         [[0., -inf, -inf, -inf],\n",
              "          [0., 0., -inf, -inf],\n",
              "          [0., 0., 0., -inf],\n",
              "          [0., 0., 0., 0.]],\n",
              "\n",
              "         [[0., -inf, -inf, -inf],\n",
              "          [0., 0., -inf, -inf],\n",
              "          [0., 0., 0., -inf],\n",
              "          [0., 0., 0., 0.]]]])"
            ]
          },
          "metadata": {},
          "execution_count": 86
        }
      ]
    },
    {
      "cell_type": "code",
      "source": [
        "(scaled + mask)[0][0]"
      ],
      "metadata": {
        "colab": {
          "base_uri": "https://localhost:8080/"
        },
        "id": "r0xI3MDaqJwI",
        "outputId": "e9dc7003-6962-4789-bd38-0d850fb4d18e"
      },
      "execution_count": 87,
      "outputs": [
        {
          "output_type": "execute_result",
          "data": {
            "text/plain": [
              "tensor([[ 0.0447,    -inf,    -inf,    -inf],\n",
              "        [-0.5308, -0.1147,    -inf,    -inf],\n",
              "        [ 0.3128,  0.6896, -0.6147,    -inf],\n",
              "        [-0.2300, -0.5748, -0.0061, -0.0013]], grad_fn=<SelectBackward0>)"
            ]
          },
          "metadata": {},
          "execution_count": 87
        }
      ]
    },
    {
      "cell_type": "code",
      "source": [
        "scaled = scaled + mask\n",
        "attention = F.softmax(scaled,dim = -1)\n",
        "# -1 하면 위의 scaled[0][0][0][2] 에서 softmax가 진행된다\n",
        "np.exp(-0.538) / (np.exp(-0.538)+ np.exp(-0.1147))"
      ],
      "metadata": {
        "colab": {
          "base_uri": "https://localhost:8080/"
        },
        "id": "G0l5he5iqznZ",
        "outputId": "52ebc756-27f1-4967-f78c-c14a875ed78c"
      },
      "execution_count": 91,
      "outputs": [
        {
          "output_type": "execute_result",
          "data": {
            "text/plain": [
              "0.39572735940832304"
            ]
          },
          "metadata": {},
          "execution_count": 91
        }
      ]
    },
    {
      "cell_type": "code",
      "source": [
        "attention[0][0] # 캬~"
      ],
      "metadata": {
        "colab": {
          "base_uri": "https://localhost:8080/"
        },
        "id": "HH9ZD0GVrYr3",
        "outputId": "86318c28-f3f7-4423-b98e-691a3477c3ee"
      },
      "execution_count": 89,
      "outputs": [
        {
          "output_type": "execute_result",
          "data": {
            "text/plain": [
              "tensor([[1.0000, 0.0000, 0.0000, 0.0000],\n",
              "        [0.3975, 0.6025, 0.0000, 0.0000],\n",
              "        [0.3505, 0.5109, 0.1386, 0.0000],\n",
              "        [0.2372, 0.1680, 0.2967, 0.2981]], grad_fn=<SelectBackward0>)"
            ]
          },
          "metadata": {},
          "execution_count": 89
        }
      ]
    },
    {
      "cell_type": "code",
      "source": [
        "values = torch.matmul(attention,v)"
      ],
      "metadata": {
        "id": "msLwMpdsrvnu"
      },
      "execution_count": 95,
      "outputs": []
    },
    {
      "cell_type": "code",
      "source": [
        "values.size()"
      ],
      "metadata": {
        "colab": {
          "base_uri": "https://localhost:8080/"
        },
        "id": "y2aowjXwsUCO",
        "outputId": "33a7d8da-6540-4e09-dc81-0ad3abd7bdba"
      },
      "execution_count": 96,
      "outputs": [
        {
          "output_type": "execute_result",
          "data": {
            "text/plain": [
              "torch.Size([1, 8, 4, 64])"
            ]
          },
          "metadata": {},
          "execution_count": 96
        }
      ]
    },
    {
      "cell_type": "code",
      "source": [
        "#multi head attention 종료!! linear layer에 넣으면\n",
        "values =values.reshape(batch_size,sequence_length,nums_heads*head_dim)"
      ],
      "metadata": {
        "id": "vbYNwzhtsZAq"
      },
      "execution_count": 100,
      "outputs": []
    },
    {
      "cell_type": "code",
      "source": [
        "values"
      ],
      "metadata": {
        "id": "UqwLuo-Bs_j7"
      },
      "execution_count": null,
      "outputs": []
    },
    {
      "cell_type": "code",
      "source": [
        "linear_layer = nn.Linear(d_model,d_model)"
      ],
      "metadata": {
        "id": "OS0m0edTsqmT"
      },
      "execution_count": 98,
      "outputs": []
    },
    {
      "cell_type": "code",
      "source": [
        "out =  linear_layer(values) #input 보다 문맥이해도 증가"
      ],
      "metadata": {
        "id": "OD4tE7kMs3YE"
      },
      "execution_count": 101,
      "outputs": []
    }
  ]
}