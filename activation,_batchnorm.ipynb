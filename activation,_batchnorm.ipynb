{
  "nbformat": 4,
  "nbformat_minor": 0,
  "metadata": {
    "colab": {
      "provenance": []
    },
    "kernelspec": {
      "name": "python3",
      "display_name": "Python 3"
    },
    "language_info": {
      "name": "python"
    }
  },
  "cells": [
    {
      "cell_type": "code",
      "execution_count": 45,
      "metadata": {
        "id": "7ppO_rfQPeGt"
      },
      "outputs": [],
      "source": [
        "import torch\n",
        "import matplotlib.pyplot as plt\n",
        "import torch.nn.functional as F\n",
        "%matplotlib inline"
      ]
    },
    {
      "cell_type": "code",
      "source": [
        "words = open('names.txt','r').read().splitlines()\n",
        "words[:9]"
      ],
      "metadata": {
        "colab": {
          "base_uri": "https://localhost:8080/"
        },
        "id": "2Sig-5SSP1R-",
        "outputId": "c3f631f5-5d62-48b4-cce3-2696a7b379b2"
      },
      "execution_count": 46,
      "outputs": [
        {
          "output_type": "execute_result",
          "data": {
            "text/plain": [
              "['emma',\n",
              " 'olivia',\n",
              " 'ava',\n",
              " 'isabella',\n",
              " 'sophia',\n",
              " 'charlotte',\n",
              " 'mia',\n",
              " 'amelia',\n",
              " 'harper']"
            ]
          },
          "metadata": {},
          "execution_count": 46
        }
      ]
    },
    {
      "cell_type": "code",
      "source": [
        "chars = sorted(list(set(''.join(words))))"
      ],
      "metadata": {
        "id": "OBuVKXiRQYFa"
      },
      "execution_count": 47,
      "outputs": []
    },
    {
      "cell_type": "code",
      "source": [
        "chars"
      ],
      "metadata": {
        "colab": {
          "base_uri": "https://localhost:8080/"
        },
        "id": "_jdfaxJjQdwi",
        "outputId": "0787bc93-8e3e-421d-f0ac-fe1738a6315c"
      },
      "execution_count": 48,
      "outputs": [
        {
          "output_type": "execute_result",
          "data": {
            "text/plain": [
              "['a',\n",
              " 'b',\n",
              " 'c',\n",
              " 'd',\n",
              " 'e',\n",
              " 'f',\n",
              " 'g',\n",
              " 'h',\n",
              " 'i',\n",
              " 'j',\n",
              " 'k',\n",
              " 'l',\n",
              " 'm',\n",
              " 'n',\n",
              " 'o',\n",
              " 'p',\n",
              " 'q',\n",
              " 'r',\n",
              " 's',\n",
              " 't',\n",
              " 'u',\n",
              " 'v',\n",
              " 'w',\n",
              " 'x',\n",
              " 'y',\n",
              " 'z']"
            ]
          },
          "metadata": {},
          "execution_count": 48
        }
      ]
    },
    {
      "cell_type": "code",
      "source": [
        "stoi = {s:i+1 for i,s in enumerate(chars)} #i+1 인이유 enumerate의 첫 index - 0이고 이를 시작토큰 .으로 설정\n",
        "stoi['.'] = 0\n",
        "itos = {i+1:s for i,s in enumerate(chars)} # {i:s for i,s in stoi.items()} 도 가능\n",
        "itos[0] = '.'\n",
        "itos\n"
      ],
      "metadata": {
        "colab": {
          "base_uri": "https://localhost:8080/"
        },
        "id": "yceGJ5ucQ5gQ",
        "outputId": "747e954c-a14d-4f96-df08-d6bb2979d321"
      },
      "execution_count": 49,
      "outputs": [
        {
          "output_type": "execute_result",
          "data": {
            "text/plain": [
              "{1: 'a',\n",
              " 2: 'b',\n",
              " 3: 'c',\n",
              " 4: 'd',\n",
              " 5: 'e',\n",
              " 6: 'f',\n",
              " 7: 'g',\n",
              " 8: 'h',\n",
              " 9: 'i',\n",
              " 10: 'j',\n",
              " 11: 'k',\n",
              " 12: 'l',\n",
              " 13: 'm',\n",
              " 14: 'n',\n",
              " 15: 'o',\n",
              " 16: 'p',\n",
              " 17: 'q',\n",
              " 18: 'r',\n",
              " 19: 's',\n",
              " 20: 't',\n",
              " 21: 'u',\n",
              " 22: 'v',\n",
              " 23: 'w',\n",
              " 24: 'x',\n",
              " 25: 'y',\n",
              " 26: 'z',\n",
              " 0: '.'}"
            ]
          },
          "metadata": {},
          "execution_count": 49
        }
      ]
    },
    {
      "cell_type": "code",
      "source": [
        "stoi"
      ],
      "metadata": {
        "colab": {
          "base_uri": "https://localhost:8080/"
        },
        "id": "zGz98X3_Ridi",
        "outputId": "d0907042-46e1-4da4-eec6-b9a05d85db3a"
      },
      "execution_count": 50,
      "outputs": [
        {
          "output_type": "execute_result",
          "data": {
            "text/plain": [
              "{'a': 1,\n",
              " 'b': 2,\n",
              " 'c': 3,\n",
              " 'd': 4,\n",
              " 'e': 5,\n",
              " 'f': 6,\n",
              " 'g': 7,\n",
              " 'h': 8,\n",
              " 'i': 9,\n",
              " 'j': 10,\n",
              " 'k': 11,\n",
              " 'l': 12,\n",
              " 'm': 13,\n",
              " 'n': 14,\n",
              " 'o': 15,\n",
              " 'p': 16,\n",
              " 'q': 17,\n",
              " 'r': 18,\n",
              " 's': 19,\n",
              " 't': 20,\n",
              " 'u': 21,\n",
              " 'v': 22,\n",
              " 'w': 23,\n",
              " 'x': 24,\n",
              " 'y': 25,\n",
              " 'z': 26,\n",
              " '.': 0}"
            ]
          },
          "metadata": {},
          "execution_count": 50
        }
      ]
    },
    {
      "cell_type": "code",
      "source": [
        "#데이터셋 만들기\n",
        "block_size = 3 #context length 몇개의 알파벳을 다음문자를 예측하기 위해 쓸거냐\n",
        "def build_dataset(words):\n",
        "  x,y=[],[]\n",
        "  for w in words:\n",
        "    context = [0] * block_size\n",
        "    for ch in w + '.':                #olivia [0,0,0]\n",
        "      ix =stoi[ch]                    #           o,  l,  i,  v,  i,  a\n",
        "      x.append(context)               #[[0,0,0]] ...,..o,.ol,oli,liv,iva,...\n",
        "      y.append(ix)                    #[15] <= olivia 의 stoi가 들어감\n",
        "      context = context[1:] +[ix]     # 값전달 list\n",
        "  #build_dataset(words[:3])\n",
        "  #\n",
        "  x=torch.tensor(x)\n",
        "  y=torch.tensor(y)\n",
        "  print(x.shape,y.shape)\n",
        "\n",
        "  return x,y\n",
        "\n",
        "build_dataset(words[:3])\n",
        "\n"
      ],
      "metadata": {
        "colab": {
          "base_uri": "https://localhost:8080/"
        },
        "id": "2B_q7FWnRjM-",
        "outputId": "67b284d6-86ca-4b97-a371-5939681524c3"
      },
      "execution_count": 51,
      "outputs": [
        {
          "output_type": "stream",
          "name": "stdout",
          "text": [
            "torch.Size([16, 3]) torch.Size([16])\n"
          ]
        },
        {
          "output_type": "execute_result",
          "data": {
            "text/plain": [
              "(tensor([[ 0,  0,  0],\n",
              "         [ 0,  0,  5],\n",
              "         [ 0,  5, 13],\n",
              "         [ 5, 13, 13],\n",
              "         [13, 13,  1],\n",
              "         [ 0,  0,  0],\n",
              "         [ 0,  0, 15],\n",
              "         [ 0, 15, 12],\n",
              "         [15, 12,  9],\n",
              "         [12,  9, 22],\n",
              "         [ 9, 22,  9],\n",
              "         [22,  9,  1],\n",
              "         [ 0,  0,  0],\n",
              "         [ 0,  0,  1],\n",
              "         [ 0,  1, 22],\n",
              "         [ 1, 22,  1]]),\n",
              " tensor([ 5, 13, 13,  1,  0, 15, 12,  9, 22,  9,  1,  0,  1, 22,  1,  0]))"
            ]
          },
          "metadata": {},
          "execution_count": 51
        }
      ]
    },
    {
      "cell_type": "code",
      "source": [
        "import random\n",
        "random.seed(42)\n",
        "random.shuffle(words)\n",
        "\n",
        "n1 = int(0.8*len(words))\n",
        "n2 = int(0.9*len(words))\n",
        "\n",
        "xtr,ytr = build_dataset(words[:n1])\n",
        "xval, yval = build_dataset(words[n1:n2])\n",
        "xtest, ytest = build_dataset(words[n2:])\n"
      ],
      "metadata": {
        "colab": {
          "base_uri": "https://localhost:8080/"
        },
        "id": "YE4M3GHWeYP3",
        "outputId": "16dc9916-3a08-42c0-a93e-e6e802c99ba2"
      },
      "execution_count": 52,
      "outputs": [
        {
          "output_type": "stream",
          "name": "stdout",
          "text": [
            "torch.Size([182625, 3]) torch.Size([182625])\n",
            "torch.Size([22655, 3]) torch.Size([22655])\n",
            "torch.Size([22866, 3]) torch.Size([22866])\n"
          ]
        }
      ]
    },
    {
      "cell_type": "markdown",
      "source": [],
      "metadata": {
        "id": "9jB6_gMOehJJ"
      }
    },
    {
      "cell_type": "code",
      "source": [
        "n_embedding = 10 #각 단어를 10차원의 벡터로 표현하겟다~\n",
        "vocab_size = len(itos) # 27\n",
        "n_hidden = 200 #은닉층에 있는 뉴런개수\n",
        "g= torch.Generator().manual_seed(2147483647)\n",
        "#C는 보통 nlp 에서 embedding matrix 의미\n",
        "C= torch.randn((vocab_size,n_embedding),generator=g)\n",
        "W1 = torch.randn((n_embedding*block_size,n_hidden), generator= g)\n",
        "#broadcasting 진행 마지막 dim에 더해짐\n",
        "b1 = torch.randn(n_hidden,generator =g)\n",
        "W2= torch.randn((n_hidden,vocab_size),generator=g)\n",
        "b2 = torch.randn(vocab_size, generator=g)\n",
        "parameters = [C,W1,b1,W2,b2]\n",
        "print(sum(p.nelement() for p in parameters))\n",
        "#27*10 + 30+200 +200 + 200*27 + 27 = 11897\n",
        "for p in parameters:\n",
        "  p.requires_grad= True #backpropagation밑밥"
      ],
      "metadata": {
        "colab": {
          "base_uri": "https://localhost:8080/"
        },
        "id": "YNl5sIE0fXxG",
        "outputId": "f5c41b30-5d58-4fd9-b0ec-f26fb4aa6006"
      },
      "execution_count": 54,
      "outputs": [
        {
          "output_type": "stream",
          "name": "stdout",
          "text": [
            "11897\n"
          ]
        }
      ]
    },
    {
      "cell_type": "code",
      "source": [
        "xtr.shape[0]"
      ],
      "metadata": {
        "colab": {
          "base_uri": "https://localhost:8080/"
        },
        "id": "HuzMirjyTS3x",
        "outputId": "f8a6a633-db22-4812-d611-42102f1253e4"
      },
      "execution_count": 62,
      "outputs": [
        {
          "output_type": "execute_result",
          "data": {
            "text/plain": [
              "182625"
            ]
          },
          "metadata": {},
          "execution_count": 62
        }
      ]
    },
    {
      "cell_type": "code",
      "source": [
        "max_step = 200000\n",
        "batch_size = 32\n",
        "lossi = []\n",
        "for i in range(max_step):\n",
        "  ## mini batch 만들기\n",
        "  #batch size, 하면 size[32]가되고 , 없으면 size[1]이 됨\n",
        "  idx = torch.randint(0,xtr.shape[0],(batch_size,),generator = g)\n",
        "  xb,yb = xtr[idx],ytr[idx]\n",
        "  #xtr shape 16,3 ytr shape 16\n",
        "\n",
        "  #forward pass\n",
        "  emb = C[xb]\n",
        "  # xb shape = 32,3 C shape = 27,10 C가 뭐였냐 -> embedding matrix\n",
        "  #emb shape = 32,3,10 pytorch의 tensor 에 tensor index 원리? 몰루\n",
        "  embconcat = emb.view(emb.shape[0],-1)\n",
        "  # emb.shape[0] = 32 즉 embconcat shape = 32,30\n",
        "  hpreact = embconcat @ W1 + b1\n",
        "  #h_pre_act = hidden layer pre activation\n",
        "  # 단순히 activition function 전의 hidden layer\n",
        "  # W1 shape 30,200이였으므로 곱셈가능\n",
        "  h = torch.tanh(hpreact)#activation function\n",
        "  # W2.shape 200,27\n",
        "  # hpreact.shape = 32,200\n",
        "  logits = h @ W2 + b2\n",
        "  #logits shape 32,27\n",
        "  #yb shape 32\n",
        "  loss = F.cross_entropy(logits,yb)\n",
        "  ###yb = if emma [5,13,13,1]\n",
        "\n",
        "  #backward pass\n",
        "  for p in parameters:\n",
        "    p.grad = None#gradient 초기값없음\n",
        "  loss.backward()\n",
        "\n",
        "  #update learnining rate\n",
        "  lr = 0.1 if i < 100000 else 0.01\n",
        "  #학습률 조절 초기엔 빠르게 갈수록 안정적으로\n",
        "  for p in parameters:\n",
        "    p.data += lr * p.grad\n",
        "\n",
        "\n",
        "  # tqdm 모시깽깽이로 진행상황 표시\n",
        "  if i % 10000 == 0:\n",
        "    print(f'{i:7d}/{max_step:7d}: {loss.item():.4f}')\n",
        "  lossi.append(loss.log10().item())\n",
        "\n",
        "  break"
      ],
      "metadata": {
        "id": "aETe02dp489U"
      },
      "execution_count": 85,
      "outputs": []
    },
    {
      "cell_type": "code",
      "source": [
        "#이진욱의 호기심 천국 below"
      ],
      "metadata": {
        "id": "BfosA7MpdtsC"
      },
      "execution_count": null,
      "outputs": []
    },
    {
      "cell_type": "code",
      "source": [
        "logits.shape"
      ],
      "metadata": {
        "colab": {
          "base_uri": "https://localhost:8080/"
        },
        "id": "BgBDBErTatzi",
        "outputId": "f24d0a6d-03ad-4bcf-b39e-d88542868086"
      },
      "execution_count": 77,
      "outputs": [
        {
          "output_type": "execute_result",
          "data": {
            "text/plain": [
              "torch.Size([32, 27])"
            ]
          },
          "metadata": {},
          "execution_count": 77
        }
      ]
    },
    {
      "cell_type": "code",
      "source": [
        "logits"
      ],
      "metadata": {
        "colab": {
          "base_uri": "https://localhost:8080/"
        },
        "id": "0zpn2axrbrZ2",
        "outputId": "b04a8148-d937-41fd-a030-f61b16fd9911"
      },
      "execution_count": 79,
      "outputs": [
        {
          "output_type": "execute_result",
          "data": {
            "text/plain": [
              "tensor([[-7.8213e+00,  7.7030e+00,  1.3639e+01, -7.6651e+00,  1.2807e+00,\n",
              "         -1.9651e+00, -7.8856e-01, -4.6155e+00, -2.3033e+01, -3.7568e+00,\n",
              "          1.6521e+01,  7.9513e+00,  1.9079e+00, -8.0861e+00,  6.0954e-01,\n",
              "          2.1489e+01, -8.7937e+00,  1.1714e+01,  2.7585e+01,  2.0314e+01,\n",
              "         -8.1255e+00,  8.9166e+00, -1.0405e+01,  1.0608e+01,  1.8319e+01,\n",
              "         -3.4983e+00,  1.9232e+01],\n",
              "        [ 1.2412e+01, -7.6996e+00,  2.3776e+00,  6.5568e+00, -6.7900e+00,\n",
              "         -1.5600e+01, -2.1210e+01, -6.8933e-01,  1.3283e+01, -1.2542e+01,\n",
              "         -4.2807e+00,  2.5917e+01,  1.7245e+00, -1.9725e+01,  2.6588e+00,\n",
              "          7.7760e+00, -1.5661e+01,  1.4815e+01,  1.6635e+01, -9.3979e+00,\n",
              "         -6.0412e+00, -2.7174e+00, -1.9348e+00, -4.2945e+00, -9.4654e+00,\n",
              "         -5.1644e+00,  7.4092e-01],\n",
              "        [-1.1465e+01, -2.3577e+00, -1.9897e+01, -1.1001e+01, -5.2540e-01,\n",
              "         -4.8786e+00, -8.6600e+00,  1.4336e+01, -5.2337e+00,  6.3359e+00,\n",
              "         -1.4439e+01, -1.8999e+00,  4.7584e+00,  5.3903e+00, -2.7017e+00,\n",
              "         -1.6146e+00,  1.3417e+01,  3.0630e+00,  1.1690e+01, -7.2495e+00,\n",
              "          9.3323e+00,  9.4472e+00, -1.5167e+00,  7.1925e+00, -9.3888e+00,\n",
              "          4.9943e+00, -1.0348e+01],\n",
              "        [ 4.1820e+00,  2.2070e+01, -2.4313e+00, -9.0956e+00, -1.6090e+01,\n",
              "         -2.1195e+00, -9.1604e+00, -5.0454e+00,  1.0783e+01, -9.9515e+00,\n",
              "         -1.1168e+01, -1.4664e-01, -3.3426e+00, -1.3492e+01,  2.2766e+01,\n",
              "          9.9815e+00, -4.0048e+01,  8.8507e+00,  1.2519e+01, -1.9964e+01,\n",
              "         -9.0533e+00,  2.2327e+01, -1.1520e+01, -1.9269e+01, -1.2779e+01,\n",
              "          1.3217e+01,  9.9047e+00],\n",
              "        [ 1.2412e+01, -7.6996e+00,  2.3776e+00,  6.5568e+00, -6.7900e+00,\n",
              "         -1.5600e+01, -2.1210e+01, -6.8933e-01,  1.3283e+01, -1.2542e+01,\n",
              "         -4.2807e+00,  2.5917e+01,  1.7245e+00, -1.9725e+01,  2.6588e+00,\n",
              "          7.7760e+00, -1.5661e+01,  1.4815e+01,  1.6635e+01, -9.3979e+00,\n",
              "         -6.0412e+00, -2.7174e+00, -1.9348e+00, -4.2945e+00, -9.4654e+00,\n",
              "         -5.1644e+00,  7.4092e-01],\n",
              "        [ 7.6881e+00, -4.6836e-01, -1.8302e+01,  1.3909e+01,  3.1580e+01,\n",
              "          1.5867e+01, -9.0097e-01,  1.9818e+01,  2.9798e+01,  9.0239e+00,\n",
              "          1.1882e+01, -9.7527e+00, -8.1770e+00,  8.9622e+00, -1.4490e+01,\n",
              "          1.6069e+01, -1.5575e+01, -1.0827e+01, -5.3373e-01, -5.6373e-01,\n",
              "          9.2687e+00,  2.2799e+00,  2.1094e+01, -2.4026e+01, -7.7301e+00,\n",
              "          2.9686e+00, -1.0905e+01],\n",
              "        [-1.1839e+01, -1.0237e+00,  3.3195e-01, -2.6240e+01,  2.6211e+01,\n",
              "          2.5996e+01, -6.3176e-01,  1.7022e+00, -2.8066e+00,  1.3753e+01,\n",
              "          1.5848e+01, -7.3739e+00, -1.7300e+00,  2.7546e+00,  2.6578e+00,\n",
              "         -8.9685e+00, -2.1047e+00, -6.5158e+00, -9.0966e-02, -1.9599e+00,\n",
              "          1.5717e+01,  2.6057e+01, -7.2851e+00, -1.0977e+01,  1.8399e+00,\n",
              "          1.0852e+00, -3.7546e+00],\n",
              "        [ 1.4818e+01,  1.1636e+01, -4.6266e-01,  1.7929e+01,  1.1268e+01,\n",
              "         -1.8788e+01,  3.9454e+00,  1.7317e+01,  7.8975e+00, -3.4534e+00,\n",
              "          1.8119e+01, -1.8105e+01,  9.9368e-01,  9.8144e+00,  5.8294e+00,\n",
              "          3.4461e+01, -1.2246e+01,  2.3074e+00, -2.1711e+01,  1.5724e+01,\n",
              "         -1.3426e+01,  1.2126e+01,  2.5961e+01, -1.8718e+01,  2.5031e-02,\n",
              "          1.9038e+00, -3.2452e+00],\n",
              "        [ 1.2412e+01, -7.6996e+00,  2.3776e+00,  6.5568e+00, -6.7900e+00,\n",
              "         -1.5600e+01, -2.1210e+01, -6.8933e-01,  1.3283e+01, -1.2542e+01,\n",
              "         -4.2807e+00,  2.5917e+01,  1.7245e+00, -1.9725e+01,  2.6588e+00,\n",
              "          7.7760e+00, -1.5661e+01,  1.4815e+01,  1.6635e+01, -9.3979e+00,\n",
              "         -6.0412e+00, -2.7174e+00, -1.9348e+00, -4.2945e+00, -9.4654e+00,\n",
              "         -5.1644e+00,  7.4092e-01],\n",
              "        [ 1.4637e+01,  3.1928e+00, -9.7498e+00, -5.6358e+00,  1.4031e+01,\n",
              "          1.1749e+01, -5.9045e+00,  3.2117e+01,  1.9779e+01, -3.9793e+00,\n",
              "         -9.9998e+00, -5.5046e+00,  1.4748e+01,  7.4188e+00, -6.0486e+00,\n",
              "          1.8511e+01, -1.6322e+00, -5.4181e-01,  1.2076e+01,  1.4489e+01,\n",
              "         -9.4919e+00,  5.4135e+00, -8.0333e-01, -1.4110e+01,  2.4643e+01,\n",
              "         -2.6892e+01, -2.1035e+00],\n",
              "        [ 1.2412e+01, -7.6996e+00,  2.3776e+00,  6.5568e+00, -6.7900e+00,\n",
              "         -1.5600e+01, -2.1210e+01, -6.8933e-01,  1.3283e+01, -1.2542e+01,\n",
              "         -4.2807e+00,  2.5917e+01,  1.7245e+00, -1.9725e+01,  2.6588e+00,\n",
              "          7.7760e+00, -1.5661e+01,  1.4815e+01,  1.6635e+01, -9.3979e+00,\n",
              "         -6.0412e+00, -2.7174e+00, -1.9348e+00, -4.2945e+00, -9.4654e+00,\n",
              "         -5.1644e+00,  7.4092e-01],\n",
              "        [ 4.1063e+00,  9.7375e+00,  7.3136e+00,  8.3854e+00,  1.3781e+01,\n",
              "         -8.4259e+00, -1.1131e+01,  1.4039e+01,  1.4276e+01, -4.2211e+00,\n",
              "          9.9669e+00,  1.7432e+01, -5.5997e+00, -1.8409e+01,  1.8791e+01,\n",
              "          1.9434e+01, -2.0492e+01, -1.2097e+01,  2.8682e+00,  7.4725e-01,\n",
              "         -1.7944e+01,  2.8095e+00, -1.5379e+01, -3.0475e+01,  1.6152e+01,\n",
              "          1.3030e+00,  1.1020e+01],\n",
              "        [ 1.2412e+01, -7.6996e+00,  2.3776e+00,  6.5568e+00, -6.7900e+00,\n",
              "         -1.5600e+01, -2.1210e+01, -6.8933e-01,  1.3283e+01, -1.2542e+01,\n",
              "         -4.2807e+00,  2.5917e+01,  1.7245e+00, -1.9725e+01,  2.6588e+00,\n",
              "          7.7760e+00, -1.5661e+01,  1.4815e+01,  1.6635e+01, -9.3979e+00,\n",
              "         -6.0412e+00, -2.7174e+00, -1.9348e+00, -4.2945e+00, -9.4654e+00,\n",
              "         -5.1644e+00,  7.4092e-01],\n",
              "        [ 6.3774e+00,  6.5370e-01, -1.2646e+00,  2.9420e-02, -1.7862e+01,\n",
              "         -8.3291e+00, -7.2361e+00,  1.0172e+00,  9.3708e+00, -2.9842e+00,\n",
              "         -5.8314e+00,  9.6787e-01, -1.2143e+01, -1.2104e+00,  1.6527e+01,\n",
              "          9.4384e+00, -3.8919e+01,  1.1017e+01,  2.1768e+01, -1.2343e+01,\n",
              "         -1.4602e+01,  1.1268e+01, -1.1300e+01, -7.2795e+00, -1.3981e+01,\n",
              "          3.7198e+00, -1.3500e+00],\n",
              "        [-5.1645e+00,  6.7292e+00, -7.7360e+00, -4.5367e+00,  7.3821e+00,\n",
              "         -7.2530e+00, -4.6611e-03,  1.4076e+01,  8.8377e+00, -2.7582e-02,\n",
              "          2.1454e+00, -1.7580e+01,  4.9403e+00, -5.1022e-01,  8.0447e+00,\n",
              "          1.7807e+01, -7.6275e+00, -2.9075e+00, -5.5254e+00, -4.4312e+00,\n",
              "          3.4334e+00,  2.8521e+01,  6.0535e+00, -2.9288e+01, -4.3446e+00,\n",
              "         -5.9654e+00, -7.6684e+00],\n",
              "        [-1.1362e+01, -9.9362e+00,  4.5519e+00, -1.5620e+01,  1.0544e+01,\n",
              "          1.6940e+01, -1.6562e+01, -3.3665e+00, -2.0812e+01, -4.5548e+00,\n",
              "          1.2974e+01,  8.2701e+00,  1.4258e+01, -1.1958e+01,  4.2032e-01,\n",
              "         -4.0515e+00, -8.6270e-01, -2.3691e+00,  2.1891e+00,  2.1797e+00,\n",
              "          6.6202e+00,  1.1468e+01,  6.8901e+00,  1.6999e+01, -6.8219e+00,\n",
              "          1.4133e+01, -4.9042e+00],\n",
              "        [-3.6955e+00,  7.2960e+00, -5.1034e-01,  1.1558e-01, -7.2537e+00,\n",
              "         -2.3093e+01, -6.9973e+00,  7.6349e+00,  9.0275e+00, -1.0898e+01,\n",
              "         -2.7344e+00, -9.0613e+00,  9.1154e+00, -1.9323e+01,  2.8158e+00,\n",
              "          1.9698e+01, -1.7304e+01,  1.1334e+01,  1.0745e+01, -1.1034e+01,\n",
              "         -5.0635e+00,  1.3582e+01, -4.0030e+00, -8.3235e+00, -1.0689e+01,\n",
              "         -8.3355e+00, -1.4721e+01],\n",
              "        [-3.4844e+00, -4.1128e+00,  3.3808e+00,  1.6468e+01, -1.0049e+01,\n",
              "          7.5003e+00, -1.1915e+01,  1.4084e+01, -2.2227e-01, -1.0220e+01,\n",
              "         -1.0804e+01,  1.5669e+01,  1.8210e+01,  5.0251e+00,  4.9679e+00,\n",
              "          6.0673e+00, -1.2337e+01, -4.0359e+00,  5.0932e+00,  2.6358e+01,\n",
              "         -1.4035e+01, -1.3055e+01,  4.8819e+00,  1.1697e+01,  3.7237e+01,\n",
              "         -1.0989e+01, -7.6049e+00],\n",
              "        [-1.2648e+01,  1.9080e+01, -2.2083e+00,  7.9324e+00, -1.9330e+00,\n",
              "          5.3259e+00, -1.2830e+01,  1.7867e+01,  4.4113e+00,  4.4246e+00,\n",
              "         -6.8725e-01,  6.4878e+00,  1.6220e+01, -2.3041e+01,  3.1464e+01,\n",
              "          9.5967e+00, -1.5562e+01,  8.8804e+00, -3.3016e+00, -1.3517e+01,\n",
              "          8.5385e+00,  1.4594e+01, -3.7774e+00, -6.2907e+00,  1.8681e+01,\n",
              "          1.0183e+01, -1.6823e+00],\n",
              "        [-1.8007e+01, -4.9867e-01, -1.3239e+01,  6.0043e+00,  1.7345e+01,\n",
              "          2.0432e+01,  5.1419e+00,  2.6175e+01, -5.9004e+00,  5.5008e+00,\n",
              "          1.2612e+01,  2.4195e+01,  1.5073e+00, -8.7605e+00,  1.8028e+01,\n",
              "          1.0450e+01,  1.7684e+00, -6.1752e+00, -1.9661e+01,  1.0519e+01,\n",
              "          6.1019e+00,  8.2431e+00, -2.1580e+00,  8.0364e+00,  2.4143e+01,\n",
              "          2.4135e+00, -5.5147e+00],\n",
              "        [ 4.9756e+00, -1.6889e+01, -1.1535e+00, -1.0579e+01,  9.4834e+00,\n",
              "          4.3812e+00,  4.3385e+00,  4.4961e+00,  1.0821e+01,  1.1800e+01,\n",
              "          2.3129e+01, -1.1041e+01,  2.5897e+00, -6.1401e+00,  1.5507e+00,\n",
              "          2.8728e+00, -1.1686e+01, -1.5303e+00, -4.5802e+00,  1.4608e+01,\n",
              "         -9.5980e+00,  5.0304e+00,  2.6176e+00, -6.7401e+00, -1.2720e+00,\n",
              "         -3.2976e-01,  6.0175e+00],\n",
              "        [ 3.5466e+00, -9.5610e+00,  9.5283e+00, -1.5347e+01,  1.2064e+01,\n",
              "          5.1639e+00, -2.3531e+00,  1.4248e+00, -1.5498e+01,  1.6184e+01,\n",
              "          1.7718e+01,  2.0437e+00,  1.6647e+01, -1.2413e+01, -3.5146e-01,\n",
              "          1.4734e+01, -7.7106e+00,  2.5350e+01,  1.6414e+01,  1.0546e+01,\n",
              "         -2.5747e+00,  1.1231e+01, -3.1340e+00,  1.7955e+01,  8.5605e+00,\n",
              "          2.8415e+00,  1.4902e+01],\n",
              "        [ 1.1899e+01, -1.6985e+00, -1.4116e+01,  4.1557e+00, -5.4182e+00,\n",
              "         -1.3162e+01,  2.1780e+01, -6.6303e+00,  2.6682e+01,  3.3130e+00,\n",
              "          9.6337e-01, -9.8278e+00, -6.3549e+00, -7.3782e+00,  4.6759e+00,\n",
              "         -1.0229e+01, -9.4449e+00,  4.3240e+00, -5.6619e+00,  7.2338e+00,\n",
              "         -2.7422e+00, -1.2856e+00, -2.2521e+01, -4.8931e+00, -1.8495e+01,\n",
              "          2.5804e+01,  1.6523e+01],\n",
              "        [-8.7581e+00, -6.8185e+00, -1.0501e+01, -1.2340e+00,  1.4363e+01,\n",
              "          2.4861e+01, -3.2579e+01, -1.0012e+01,  2.4113e+01, -2.2809e+00,\n",
              "         -7.7547e+00,  3.4155e+00, -5.9716e+00, -4.9017e+00,  1.1132e+01,\n",
              "         -5.0146e+00, -1.5303e+01, -2.7704e+00, -2.1105e+01,  1.2383e+00,\n",
              "          4.9557e+00,  1.8122e+01,  2.5569e+01,  6.0687e+00, -1.1688e+01,\n",
              "          1.9239e+01, -1.4201e+01],\n",
              "        [-3.8066e+00, -2.5047e+00,  2.3274e+00, -7.8765e+00,  1.8800e+01,\n",
              "          2.3367e+01,  2.0546e+01, -5.0541e+00, -9.5433e+00,  1.8396e+01,\n",
              "          9.5351e+00, -3.3767e+00,  1.7019e+01,  1.8124e+00,  7.6036e+00,\n",
              "          1.1758e+01, -2.2019e+01,  2.2636e+01,  3.0232e+01,  9.3599e+00,\n",
              "          9.2670e+00,  2.5455e+00, -1.4214e+01,  6.9723e+00,  6.8765e+00,\n",
              "          9.4831e+00, -3.9445e+00],\n",
              "        [ 6.2994e+00,  4.8089e+00,  8.7749e+00,  1.4085e+01,  2.4581e-02,\n",
              "         -2.7273e+01,  1.7512e-01,  3.6812e+00,  1.2807e+01,  4.6150e+00,\n",
              "          4.2416e+00,  4.1103e+00,  1.2484e+01, -8.5490e+00,  6.0145e+00,\n",
              "          2.8556e+01, -2.2652e+01,  6.1690e-01,  1.2754e+01, -3.5814e+00,\n",
              "         -3.3621e+00,  1.5251e+01,  5.1437e+00, -6.0431e+00, -4.8285e+00,\n",
              "          4.0737e+00, -4.2686e+00],\n",
              "        [ 7.9235e+00, -9.9633e-01, -1.4708e+00,  9.7317e+00, -7.9688e+00,\n",
              "         -2.5652e+01, -1.2299e+01, -3.4373e+00,  1.7154e+01, -3.9411e+00,\n",
              "         -3.1572e+00,  1.6995e+01, -1.4695e+01, -1.0680e+01, -5.4295e+00,\n",
              "          1.5651e+01, -1.8746e+01, -1.6933e+00,  1.1558e+01, -6.9851e+00,\n",
              "         -9.4966e+00,  6.1356e+00, -1.0914e+01, -2.3484e+01,  7.7988e-01,\n",
              "         -1.5572e+00, -6.8111e+00],\n",
              "        [-1.8805e+00,  1.6436e+01, -1.8365e+00, -6.7995e+00,  1.7751e+01,\n",
              "         -3.6844e+00,  8.3312e+00,  2.3063e+01,  1.1014e+01,  5.9136e+00,\n",
              "          4.6169e+00, -1.6472e+01,  4.2106e+00, -7.2187e+00, -3.2807e+00,\n",
              "          1.7016e+01, -5.4072e+00,  7.0278e+00,  3.6387e+00, -1.1155e+01,\n",
              "         -5.3454e+00,  2.0179e+01,  5.2762e+00, -3.1715e+01, -1.6692e+00,\n",
              "         -8.0236e+00, -8.2754e+00],\n",
              "        [-1.0434e+01, -1.4000e+01,  7.0033e+00, -2.1580e+01,  2.2141e+01,\n",
              "          1.3340e+01, -1.0006e+01, -7.4538e+00, -9.8457e+00,  1.4403e+01,\n",
              "          8.6513e+00, -6.7120e+00, -1.0489e+01, -3.4803e+00,  2.5178e+00,\n",
              "         -1.5095e+01, -8.2973e+00, -6.6310e+00, -1.2903e+01, -9.4662e+00,\n",
              "          2.3016e+01,  2.9287e+01,  3.4474e+00,  4.8526e+00, -7.7519e+00,\n",
              "          6.1918e-01, -1.8251e+00],\n",
              "        [ 5.8915e+00,  5.6136e+00,  1.4868e+01,  1.6708e+01, -2.0141e+01,\n",
              "         -1.7137e+01, -7.8763e+00,  1.9347e+00, -1.4323e-01,  2.1964e+00,\n",
              "         -3.5279e+00,  1.1456e+01, -2.9099e+00, -8.0407e+00, -1.0863e+01,\n",
              "          2.3054e+01, -3.2422e+00,  8.2813e+00,  5.6836e+00, -1.7316e+01,\n",
              "         -7.8719e+00, -3.9225e+00, -3.8233e+00, -9.3299e+00, -1.1880e+01,\n",
              "          5.5344e+00,  1.5929e+00],\n",
              "        [-1.7031e+01, -7.6651e+00, -6.2457e-01,  1.0015e+00,  2.6308e+01,\n",
              "          4.3672e+00,  2.8849e+00, -7.9070e+00, -1.7031e+01, -1.1530e+00,\n",
              "          8.6244e+00, -5.5803e-01,  7.9498e+00,  8.1761e+00,  4.9555e+00,\n",
              "          8.4976e+00, -3.2467e+00,  2.3355e+00,  5.2749e+00,  2.1081e+01,\n",
              "          3.7699e+00, -7.9525e+00,  7.1847e+00,  2.9712e+01,  1.2986e+01,\n",
              "          1.4170e+01, -2.6434e+00],\n",
              "        [ 3.5636e+00,  2.0467e+00, -5.1960e+00,  4.4684e+00, -2.2791e-01,\n",
              "         -2.5821e+01,  1.0056e+01,  8.0293e-01,  8.8886e+00,  2.0631e+01,\n",
              "          1.6855e+01,  2.4916e+01,  1.5276e+01, -1.0065e+01,  1.4294e+01,\n",
              "         -1.7852e+01,  5.1022e+00, -2.7731e+00, -3.9730e+00,  1.1158e+01,\n",
              "         -1.2763e+01, -1.0078e+00,  5.7289e+00,  8.6269e+00,  8.9857e+00,\n",
              "          1.2139e+01,  1.3609e+01]], grad_fn=<AddBackward0>)"
            ]
          },
          "metadata": {},
          "execution_count": 79
        }
      ]
    },
    {
      "cell_type": "code",
      "source": [
        "yb"
      ],
      "metadata": {
        "colab": {
          "base_uri": "https://localhost:8080/"
        },
        "id": "iqUm9VQFbskX",
        "outputId": "6203ea3b-7a94-4940-c7df-b386ccb18b72"
      },
      "execution_count": 80,
      "outputs": [
        {
          "output_type": "execute_result",
          "data": {
            "text/plain": [
              "tensor([19,  1,  5,  0, 14, 14, 18,  8, 11, 25,  2,  9, 26, 15, 14, 19,  5, 13,\n",
              "         0,  0,  8, 12,  9, 25,  1,  5,  8,  8,  5,  1,  1, 22])"
            ]
          },
          "metadata": {},
          "execution_count": 80
        }
      ]
    },
    {
      "cell_type": "code",
      "source": [
        "yb.shape"
      ],
      "metadata": {
        "colab": {
          "base_uri": "https://localhost:8080/"
        },
        "id": "6QFoihbMbbgw",
        "outputId": "9a71ed7d-5ee3-45af-f55e-26965864df4d"
      },
      "execution_count": 78,
      "outputs": [
        {
          "output_type": "execute_result",
          "data": {
            "text/plain": [
              "torch.Size([32])"
            ]
          },
          "metadata": {},
          "execution_count": 78
        }
      ]
    },
    {
      "cell_type": "code",
      "source": [
        "h.shape"
      ],
      "metadata": {
        "colab": {
          "base_uri": "https://localhost:8080/"
        },
        "id": "MSENDqNWZial",
        "outputId": "fb5eaf36-d994-4db9-b6f1-7bcdf366be5a"
      },
      "execution_count": 71,
      "outputs": [
        {
          "output_type": "execute_result",
          "data": {
            "text/plain": [
              "torch.Size([32, 200])"
            ]
          },
          "metadata": {},
          "execution_count": 71
        }
      ]
    },
    {
      "cell_type": "code",
      "source": [
        "h"
      ],
      "metadata": {
        "colab": {
          "base_uri": "https://localhost:8080/"
        },
        "id": "LaHd0OrAdz2A",
        "outputId": "22884175-efe3-4918-b523-af72db0ba1c2"
      },
      "execution_count": 82,
      "outputs": [
        {
          "output_type": "execute_result",
          "data": {
            "text/plain": [
              "tensor([[-0.9986,  0.0272, -0.9958,  ...,  0.5002,  0.9998,  0.9967],\n",
              "        [-1.0000,  0.9604, -0.1418,  ..., -0.1266,  1.0000,  1.0000],\n",
              "        [ 0.9923, -0.9907, -1.0000,  ..., -0.9999, -0.9476,  0.9999],\n",
              "        ...,\n",
              "        [-0.9948, -0.2404,  0.9418,  ..., -0.9999,  0.9992,  1.0000],\n",
              "        [ 0.9780, -0.9986, -0.9931,  ..., -1.0000, -0.9995, -0.9460],\n",
              "        [ 0.9958,  0.9997, -1.0000,  ..., -0.8982, -1.0000,  0.6227]],\n",
              "       grad_fn=<TanhBackward0>)"
            ]
          },
          "metadata": {},
          "execution_count": 82
        }
      ]
    },
    {
      "cell_type": "code",
      "source": [
        "hpreact.shape"
      ],
      "metadata": {
        "colab": {
          "base_uri": "https://localhost:8080/"
        },
        "id": "MQwbbMN0ZvY5",
        "outputId": "0d811426-e809-4d29-c2fa-93044fbe5944"
      },
      "execution_count": 83,
      "outputs": [
        {
          "output_type": "execute_result",
          "data": {
            "text/plain": [
              "torch.Size([32, 200])"
            ]
          },
          "metadata": {},
          "execution_count": 83
        }
      ]
    },
    {
      "cell_type": "code",
      "source": [
        "hpreact"
      ],
      "metadata": {
        "colab": {
          "base_uri": "https://localhost:8080/"
        },
        "id": "qGmmxph-d27y",
        "outputId": "64654ab2-a825-494f-fc3d-32866c215bf8"
      },
      "execution_count": 84,
      "outputs": [
        {
          "output_type": "execute_result",
          "data": {
            "text/plain": [
              "tensor([[-3.6460,  0.0272, -3.0791,  ...,  0.5495,  4.6690,  3.1952],\n",
              "        [-9.8810,  1.9506, -0.1427,  ..., -0.1273,  5.3983,  7.5101],\n",
              "        [ 2.7799, -2.6841, -6.1061,  ..., -5.2841, -1.8080,  4.9415],\n",
              "        ...,\n",
              "        [-2.9766, -0.2452,  1.7540,  ..., -5.1640,  3.9082, 15.4719],\n",
              "        [ 2.2498, -3.6238, -2.8332,  ..., -5.8289, -4.1230, -1.7921],\n",
              "        [ 3.0773,  4.3283, -6.9878,  ..., -1.4626, -5.4021,  0.7294]],\n",
              "       grad_fn=<AddBackward0>)"
            ]
          },
          "metadata": {},
          "execution_count": 84
        }
      ]
    },
    {
      "cell_type": "code",
      "source": [
        "xb.shape"
      ],
      "metadata": {
        "colab": {
          "base_uri": "https://localhost:8080/"
        },
        "id": "E6h231JjTw9i",
        "outputId": "a00491fb-b517-417b-81e3-bc6dff721570"
      },
      "execution_count": 65,
      "outputs": [
        {
          "output_type": "execute_result",
          "data": {
            "text/plain": [
              "torch.Size([32, 3])"
            ]
          },
          "metadata": {},
          "execution_count": 65
        }
      ]
    },
    {
      "cell_type": "code",
      "source": [
        "emb.shape"
      ],
      "metadata": {
        "colab": {
          "base_uri": "https://localhost:8080/"
        },
        "id": "BvN54y8ZS6fz",
        "outputId": "02f5f444-4dae-411e-a45e-c9f20e250cdb"
      },
      "execution_count": 64,
      "outputs": [
        {
          "output_type": "execute_result",
          "data": {
            "text/plain": [
              "torch.Size([32, 3, 10])"
            ]
          },
          "metadata": {},
          "execution_count": 64
        }
      ]
    },
    {
      "cell_type": "code",
      "source": [
        "embconcat.shape"
      ],
      "metadata": {
        "colab": {
          "base_uri": "https://localhost:8080/"
        },
        "id": "d_rTlxGxUmS9",
        "outputId": "8de6de8e-2017-4e8a-fa41-456240d88bb7"
      },
      "execution_count": 68,
      "outputs": [
        {
          "output_type": "execute_result",
          "data": {
            "text/plain": [
              "torch.Size([32, 30])"
            ]
          },
          "metadata": {},
          "execution_count": 68
        }
      ]
    }
  ]
}