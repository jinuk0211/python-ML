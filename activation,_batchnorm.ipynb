{
  "nbformat": 4,
  "nbformat_minor": 0,
  "metadata": {
    "colab": {
      "provenance": []
    },
    "kernelspec": {
      "name": "python3",
      "display_name": "Python 3"
    },
    "language_info": {
      "name": "python"
    }
  },
  "cells": [
    {
      "cell_type": "code",
      "execution_count": null,
      "metadata": {
        "id": "7ppO_rfQPeGt"
      },
      "outputs": [],
      "source": [
        "import torch\n",
        "import matplotlib.pyplot as plt\n",
        "import torch.nn.functional as F\n",
        "%matplotlib inline"
      ]
    },
    {
      "cell_type": "code",
      "source": [
        "words = open('names.txt','r').read().splitlines()\n",
        "words[:9]"
      ],
      "metadata": {
        "colab": {
          "base_uri": "https://localhost:8080/"
        },
        "id": "2Sig-5SSP1R-",
        "outputId": "4a54d81c-7aa3-4d1d-9c41-5d6c4cc626c5"
      },
      "execution_count": null,
      "outputs": [
        {
          "output_type": "execute_result",
          "data": {
            "text/plain": [
              "['emma',\n",
              " 'olivia',\n",
              " 'ava',\n",
              " 'isabella',\n",
              " 'sophia',\n",
              " 'charlotte',\n",
              " 'mia',\n",
              " 'amelia',\n",
              " 'harper']"
            ]
          },
          "metadata": {},
          "execution_count": 100
        }
      ]
    },
    {
      "cell_type": "code",
      "source": [
        "chars = sorted(list(set(''.join(words))))"
      ],
      "metadata": {
        "id": "OBuVKXiRQYFa"
      },
      "execution_count": null,
      "outputs": []
    },
    {
      "cell_type": "code",
      "source": [
        "chars"
      ],
      "metadata": {
        "colab": {
          "base_uri": "https://localhost:8080/"
        },
        "id": "_jdfaxJjQdwi",
        "outputId": "aac8b772-4f27-4a7d-bdf9-5b05fc8910d8"
      },
      "execution_count": null,
      "outputs": [
        {
          "output_type": "execute_result",
          "data": {
            "text/plain": [
              "['a',\n",
              " 'b',\n",
              " 'c',\n",
              " 'd',\n",
              " 'e',\n",
              " 'f',\n",
              " 'g',\n",
              " 'h',\n",
              " 'i',\n",
              " 'j',\n",
              " 'k',\n",
              " 'l',\n",
              " 'm',\n",
              " 'n',\n",
              " 'o',\n",
              " 'p',\n",
              " 'q',\n",
              " 'r',\n",
              " 's',\n",
              " 't',\n",
              " 'u',\n",
              " 'v',\n",
              " 'w',\n",
              " 'x',\n",
              " 'y',\n",
              " 'z']"
            ]
          },
          "metadata": {},
          "execution_count": 102
        }
      ]
    },
    {
      "cell_type": "code",
      "source": [
        "stoi = {s:i+1 for i,s in enumerate(chars)} #i+1 인이유 enumerate의 첫 index - 0이고 이를 시작토큰 .으로 설정\n",
        "stoi['.'] = 0\n",
        "itos = {i+1:s for i,s in enumerate(chars)} # {i:s for i,s in stoi.items()} 도 가능\n",
        "itos[0] = '.'\n",
        "itos\n"
      ],
      "metadata": {
        "colab": {
          "base_uri": "https://localhost:8080/"
        },
        "id": "yceGJ5ucQ5gQ",
        "outputId": "594fbb87-6fa9-45bb-c6ec-722cef1e144c"
      },
      "execution_count": null,
      "outputs": [
        {
          "output_type": "execute_result",
          "data": {
            "text/plain": [
              "{1: 'a',\n",
              " 2: 'b',\n",
              " 3: 'c',\n",
              " 4: 'd',\n",
              " 5: 'e',\n",
              " 6: 'f',\n",
              " 7: 'g',\n",
              " 8: 'h',\n",
              " 9: 'i',\n",
              " 10: 'j',\n",
              " 11: 'k',\n",
              " 12: 'l',\n",
              " 13: 'm',\n",
              " 14: 'n',\n",
              " 15: 'o',\n",
              " 16: 'p',\n",
              " 17: 'q',\n",
              " 18: 'r',\n",
              " 19: 's',\n",
              " 20: 't',\n",
              " 21: 'u',\n",
              " 22: 'v',\n",
              " 23: 'w',\n",
              " 24: 'x',\n",
              " 25: 'y',\n",
              " 26: 'z',\n",
              " 0: '.'}"
            ]
          },
          "metadata": {},
          "execution_count": 103
        }
      ]
    },
    {
      "cell_type": "code",
      "source": [
        "stoi"
      ],
      "metadata": {
        "colab": {
          "base_uri": "https://localhost:8080/"
        },
        "id": "zGz98X3_Ridi",
        "outputId": "6891a984-b07d-478b-d222-69ff6facf686"
      },
      "execution_count": null,
      "outputs": [
        {
          "output_type": "execute_result",
          "data": {
            "text/plain": [
              "{'a': 1,\n",
              " 'b': 2,\n",
              " 'c': 3,\n",
              " 'd': 4,\n",
              " 'e': 5,\n",
              " 'f': 6,\n",
              " 'g': 7,\n",
              " 'h': 8,\n",
              " 'i': 9,\n",
              " 'j': 10,\n",
              " 'k': 11,\n",
              " 'l': 12,\n",
              " 'm': 13,\n",
              " 'n': 14,\n",
              " 'o': 15,\n",
              " 'p': 16,\n",
              " 'q': 17,\n",
              " 'r': 18,\n",
              " 's': 19,\n",
              " 't': 20,\n",
              " 'u': 21,\n",
              " 'v': 22,\n",
              " 'w': 23,\n",
              " 'x': 24,\n",
              " 'y': 25,\n",
              " 'z': 26,\n",
              " '.': 0}"
            ]
          },
          "metadata": {},
          "execution_count": 104
        }
      ]
    },
    {
      "cell_type": "code",
      "source": [
        "#데이터셋 만들기\n",
        "block_size = 3 #context length 몇개의 알파벳을 다음문자를 예측하기 위해 쓸거냐\n",
        "def build_dataset(words):\n",
        "  x,y=[],[]\n",
        "  for w in words:\n",
        "    context = [0] * block_size\n",
        "    for ch in w + '.':                #olivia [0,0,0]\n",
        "      ix =stoi[ch]                    #           o,  l,  i,  v,  i,  a\n",
        "      x.append(context)               #[[0,0,0]] ...,..o,.ol,oli,liv,iva,...\n",
        "      y.append(ix)                    #[15] <= olivia 의 stoi가 들어감\n",
        "      context = context[1:] +[ix]     # 값전달 list\n",
        "  #build_dataset(words[:3])\n",
        "  #\n",
        "  x=torch.tensor(x)\n",
        "  y=torch.tensor(y)\n",
        "  print(x.shape,y.shape)\n",
        "\n",
        "  return x,y\n",
        "\n",
        "build_dataset(words[:3])\n",
        "\n"
      ],
      "metadata": {
        "colab": {
          "base_uri": "https://localhost:8080/"
        },
        "id": "2B_q7FWnRjM-",
        "outputId": "bcb2c09e-3782-40bd-e334-776f567f32d3"
      },
      "execution_count": null,
      "outputs": [
        {
          "output_type": "stream",
          "name": "stdout",
          "text": [
            "torch.Size([16, 3]) torch.Size([16])\n"
          ]
        },
        {
          "output_type": "execute_result",
          "data": {
            "text/plain": [
              "(tensor([[ 0,  0,  0],\n",
              "         [ 0,  0,  5],\n",
              "         [ 0,  5, 13],\n",
              "         [ 5, 13, 13],\n",
              "         [13, 13,  1],\n",
              "         [ 0,  0,  0],\n",
              "         [ 0,  0, 15],\n",
              "         [ 0, 15, 12],\n",
              "         [15, 12,  9],\n",
              "         [12,  9, 22],\n",
              "         [ 9, 22,  9],\n",
              "         [22,  9,  1],\n",
              "         [ 0,  0,  0],\n",
              "         [ 0,  0,  1],\n",
              "         [ 0,  1, 22],\n",
              "         [ 1, 22,  1]]),\n",
              " tensor([ 5, 13, 13,  1,  0, 15, 12,  9, 22,  9,  1,  0,  1, 22,  1,  0]))"
            ]
          },
          "metadata": {},
          "execution_count": 105
        }
      ]
    },
    {
      "cell_type": "code",
      "source": [
        "import random\n",
        "random.seed(42)\n",
        "random.shuffle(words)\n",
        "\n",
        "n1 = int(0.8*len(words))\n",
        "n2 = int(0.9*len(words))\n",
        "\n",
        "xtr,ytr = build_dataset(words[:n1])\n",
        "xval, yval = build_dataset(words[n1:n2])\n",
        "xtest, ytest = build_dataset(words[n2:])\n"
      ],
      "metadata": {
        "colab": {
          "base_uri": "https://localhost:8080/"
        },
        "id": "YE4M3GHWeYP3",
        "outputId": "43e590d1-bdb9-4356-f97c-08cb12e97db8"
      },
      "execution_count": null,
      "outputs": [
        {
          "output_type": "stream",
          "name": "stdout",
          "text": [
            "torch.Size([182625, 3]) torch.Size([182625])\n",
            "torch.Size([22655, 3]) torch.Size([22655])\n",
            "torch.Size([22866, 3]) torch.Size([22866])\n"
          ]
        }
      ]
    },
    {
      "cell_type": "markdown",
      "source": [],
      "metadata": {
        "id": "9jB6_gMOehJJ"
      }
    },
    {
      "cell_type": "code",
      "source": [
        "#                 def__init__():\n",
        "#---------------------------------------------------------------------------------\n",
        "\n",
        "n_embedding = 10 #각 단어를 10차원의 벡터로 표현하겟다~\n",
        "vocab_size = len(itos) # 27\n",
        "n_hidden = 200 #은닉층에 있는 뉴런개수\n",
        "g= torch.Generator().manual_seed(2147483647)\n",
        "#C는 보통 nlp 에서 embedding matrix 의미\n",
        "C= torch.randn((vocab_size,n_embedding),generator=g)\n",
        "W1 = torch.randn((n_embedding*block_size,n_hidden), generator= g) # *(5/3)/(n_embedding*block_size)*0.5\n",
        "#broadcasting 진행 마지막 dim에 더해짐\n",
        "b1 = torch.randn(n_hidden,generator =g)              #* 0.01  하지만 표준편차도 0.01배됨\n",
        "W2= torch.randn((n_hidden,vocab_size),generator=g)   #* 0.01\n",
        "b2 = torch.randn(vocab_size, generator=g)            #* 0\n",
        "\n",
        "#batchnorm parameter\n",
        "bngain= torch.ones((1,n_hidden))\n",
        "bnbias = torch.zeros((1,n_hidden))\n",
        "bnmean_running = torch.ones((1,n_hidden))\n",
        "bnstd_running = torch.zeros((1,n_hidden))\n",
        "\n",
        "\n",
        "parameters = [C,W1,b1,W2,b2,bngain,bnbias]\n",
        "print(sum(p.nelement() for p in parameters))\n",
        "#27*10 + 30+200 +200 + 200*27 + 27 = 11897\n",
        "for p in parameters:\n",
        "  p.requires_grad= True #backpropagation밑밥"
      ],
      "metadata": {
        "colab": {
          "base_uri": "https://localhost:8080/"
        },
        "id": "YNl5sIE0fXxG",
        "outputId": "cb4ff03e-97ed-489b-e9da-02f793d587ef"
      },
      "execution_count": null,
      "outputs": [
        {
          "output_type": "stream",
          "name": "stdout",
          "text": [
            "11897\n"
          ]
        }
      ]
    },
    {
      "cell_type": "code",
      "source": [
        "#가우시안 분포 2개 곱하면  |->|   gaussian but std reversible\n",
        "#std 1로 하는 법  |->|   / fan_in**0.5\n",
        "#이 경우 w / 10**0.5\n",
        "#기울기 초기화라고 부름\n",
        "#기울기 소실 (Vanishing Gradients): 신경망이 깊어질수록, 역전파 알고리즘이 기울기를 전파하면서 기울기가 계속해서 곱해지는 현상이 발생할 수 있습니다. 초기에 작은 표준 편차로 초기화된 가중치들은 여러 층을 거치면서 계속 작아져, 결국 기울기가 거의 소실되어 학습이 어려워지거나 중단되는 문제가 발생할 수 있습니다.\n",
        "#기울기 폭주 (Exploding Gradients): 반대로 초기에 큰 표준 편차로 초기화된 가중치들은 여러 층을 거치면서 계속 커져, 기울기가 지수적으로 증가하는 현상이 발생할 수 있습니다. 이 경우 가중치 업데이트가 매우 크게 되어 모델의 파라미터가 발산하게 되고, 학습이 불안정해집니다.\n",
        "#위 두 개 방지\n",
        "\n",
        "#### FORMULA = GAIN / FAN_IN**0.5\n",
        "\n",
        "#kaiming normal 이라고 불림\n",
        "x = torch.randn(1000,10)\n",
        "w = torch.randn(10,200)   #/ 10**0.5\n",
        "y=x @ w\n",
        "print(x.mean(),x.std())\n",
        "print(y.mean(),y.std())\n",
        "plt.figure(figsize=(20,15))\n",
        "plt.subplot(121)\n",
        "plt.hist(x.view(-1).tolist(),50,density=True)\n",
        "plt.subplot(122)\n",
        "plt.hist(y.view(-1).tolist(),50,density=True)\n"
      ],
      "metadata": {
        "id": "1jU-p_mR3QxF"
      },
      "execution_count": null,
      "outputs": []
    },
    {
      "cell_type": "code",
      "source": [
        "xtr.shape[0]"
      ],
      "metadata": {
        "id": "HuzMirjyTS3x"
      },
      "execution_count": null,
      "outputs": []
    },
    {
      "cell_type": "code",
      "source": [
        "hpreact.mean(0,keepdim=True).shape"
      ],
      "metadata": {
        "id": "DcAuIYNhJdIz"
      },
      "execution_count": null,
      "outputs": []
    },
    {
      "cell_type": "code",
      "source": [
        "hpreact.std(0,keepdim=True).shape"
      ],
      "metadata": {
        "id": "RVMs0Z1wJwZd"
      },
      "execution_count": null,
      "outputs": []
    },
    {
      "cell_type": "code",
      "source": [
        "max_step = 200000\n",
        "batch_size = 32\n",
        "lossi = []\n",
        "\n",
        "#                 def forward():\n",
        "#-----------------------------------------------------------\n",
        "for i in range(max_step):\n",
        "  ## mini batch 만들기\n",
        "  #batch size, 하면 size[32]가되고 , 없으면 size[1]이 됨\n",
        "  idx = torch.randint(0,xtr.shape[0],(batch_size,),generator = g)\n",
        "  xb,yb = xtr[idx],ytr[idx]\n",
        "  #xtr shape 16,3 ytr shape 16\n",
        "\n",
        "  #forward pass\n",
        "\n",
        "  emb = C[xb]\n",
        "  # xb shape = 32,3 C shape = 27,10 C가 뭐였냐 -> embedding matrix\n",
        "  #emb shape = 32,3,10 pytorch의 tensor 에 tensor index 원리? 몰루\n",
        "  embconcat = emb.view(emb.shape[0],-1)\n",
        "  # emb.shape[0] = 32 즉 embconcat shape = 32,30\n",
        "\n",
        "#               linear layer\n",
        "#--------------------------------------------------------------------------\n",
        "\n",
        "  hpreact = embconcat @ W1 # + b1  <- useless\n",
        "  #h_pre_act = hidden layer pre activation\n",
        "  # 단순히 activition function 전의 hidden layer\n",
        "  # W1 shape 30,200이였으므로 곱셈가능\n",
        "\n",
        "\n",
        "#               batchnorm layer -2015 paper-\n",
        "#                 less decent than layer normalization such as\n",
        "#---------------------------------------------------------------------------\n",
        "\n",
        "  bnmeani = hpreact.mean(0,keepdim=True)\n",
        "  bnstdi = hpreact.std(0,keepdim=True)\n",
        "  hpreact = (hpreact-bnmeani)/bnstdi\n",
        "  #tanh(hpreact) 가 0에 가까워져야하며 표준편차 또한 일정해지면 좋다\n",
        "  #hidden layer마다 normalization을 적용시키면 효율이 극대화되는게 아닌가?\n",
        "  #-> batch normaliztion comes into play\n",
        "\n",
        "\n",
        "  bngain= torch.ones((1,n_hidden))\n",
        "  bnbias = torch.zeros((1,n_hidden))\n",
        "  hpreact = bngain*hpreact + bnbias\n",
        "  #but 정규화가 진행됬어도 bell shape의 shift and scale이 있어야 효율이 좋아짐\n",
        "  #batch normalization gain and batch normalization bias comes into play\n",
        "\n",
        "  with torch.no_grad():\n",
        "    bnmean_running = 0.999* bnmean_running + 0.001*bnmeani\n",
        "    bnstd_running = 0.999 * bnstd_running + 0.001*bnstdi\n",
        "                                            # momentum이라불림 0.001\n",
        "#---------------------------------------------------------------------------\n",
        " #        non-linarity\n",
        "\n",
        "  h = torch.tanh(hpreact)#activation function\n",
        "  # W2.shape 200,27\n",
        "  # hpreact.shape = 32,200\n",
        "  logits = h @ W2 + b2\n",
        "  #logits shape 32,27\n",
        "  #yb shape 32\n",
        "  loss = F.cross_entropy(logits,yb)\n",
        "  ###yb = if emma [5,13,13,1]\n",
        "\n",
        "  #backward pass\n",
        "  for p in parameters:\n",
        "    p.grad = None#gradient 초기값없음\n",
        "  loss.backward()\n",
        "\n",
        "  #update learnining rate\n",
        "  lr = 0.1 if i < 100000 else 0.01\n",
        "  #학습률 조절 초기엔 빠르게 갈수록 안정적으로\n",
        "  for p in parameters:\n",
        "    p.data += -lr * p.grad\n",
        "\n",
        "\n",
        "  # tqdm 모시깽깽이로 진행상황 표시\n",
        "  if i % 10000 == 0:\n",
        "    print(f'{i:7d}/{max_step:7d}: {loss.item():.4f}')\n",
        "  lossi.append(loss.log10().item())\n",
        "  break\n"
      ],
      "metadata": {
        "colab": {
          "base_uri": "https://localhost:8080/"
        },
        "id": "aETe02dp489U",
        "outputId": "bab85a5e-5139-484c-dfa5-1f1759e809ec"
      },
      "execution_count": null,
      "outputs": [
        {
          "output_type": "stream",
          "name": "stdout",
          "text": [
            "      0/ 200000: 2.6018\n"
          ]
        }
      ]
    },
    {
      "cell_type": "code",
      "source": [
        "loss.item()"
      ],
      "metadata": {
        "colab": {
          "base_uri": "https://localhost:8080/"
        },
        "id": "oBlcwRsH2_OA",
        "outputId": "d8383bef-a383-4894-fa26-a9b2d35377e4"
      },
      "execution_count": null,
      "outputs": [
        {
          "output_type": "execute_result",
          "data": {
            "text/plain": [
              "2.417387008666992"
            ]
          },
          "metadata": {},
          "execution_count": 111
        }
      ]
    },
    {
      "cell_type": "code",
      "source": [
        "import numpy as np\n",
        "plt.plot(np.arange(-5,5,0.2),np.tanh(np.arange(-5,5,0.2)));plt.grid()"
      ],
      "metadata": {
        "colab": {
          "base_uri": "https://localhost:8080/",
          "height": 430
        },
        "id": "wAhC-1H90Hff",
        "outputId": "fa8d9a97-3cd0-44f6-ba3b-9b57d9b89210"
      },
      "execution_count": null,
      "outputs": [
        {
          "output_type": "display_data",
          "data": {
            "text/plain": [
              "<Figure size 640x480 with 1 Axes>"
            ],
            "image/png": "[encoded data removed]"
          },
          "metadata": {}
        }
      ]
    },
    {
      "cell_type": "code",
      "source": [
        "#매우 좋지 않은 형태의 그래프 tanh 의 derivitive 식은 1-t^^2  * out.grad\n",
        "#였기 때문에 gradient 없어지고 역전파 x\n",
        "#tanh 그래프를 생각해보면 쉽게 알수 있다.\n",
        "#h = tanh(hpreact)이므로 hpreact를 0에 가깝게 만들면 h값도 0에 몰리게 될것이다\n",
        "\n",
        "#  hpreact = embconcat @ W1 + b1\n",
        "#  hpreact = embconcat @ W1 * 0.1 + b1 * 0.01\n",
        "\n",
        "plt.hist(h.view(-1).tolist(),50)"
      ],
      "metadata": {
        "colab": {
          "base_uri": "https://localhost:8080/",
          "height": 656
        },
        "id": "IE9QsYvmpt7P",
        "outputId": "1c839674-00d2-4ed6-ec0d-0cf2962bb10f"
      },
      "execution_count": null,
      "outputs": [
        {
          "output_type": "execute_result",
          "data": {
            "text/plain": [
              "(array([2435.,  141.,   67.,   60.,   57.,   37.,   35.,   18.,   16.,\n",
              "          15.,   15.,   19.,   13.,   11.,   14.,   11.,    7.,   15.,\n",
              "          15.,   14.,    9.,   10.,   19.,    8.,   12.,    9.,   12.,\n",
              "           8.,   13.,    9.,   16.,   14.,    6.,   13.,   11.,    9.,\n",
              "          16.,   14.,   11.,   20.,   17.,   21.,   31.,   22.,   36.,\n",
              "          44.,   51.,   88.,  131., 2705.]),\n",
              " array([-1.  , -0.96, -0.92, -0.88, -0.84, -0.8 , -0.76, -0.72, -0.68,\n",
              "        -0.64, -0.6 , -0.56, -0.52, -0.48, -0.44, -0.4 , -0.36, -0.32,\n",
              "        -0.28, -0.24, -0.2 , -0.16, -0.12, -0.08, -0.04,  0.  ,  0.04,\n",
              "         0.08,  0.12,  0.16,  0.2 ,  0.24,  0.28,  0.32,  0.36,  0.4 ,\n",
              "         0.44,  0.48,  0.52,  0.56,  0.6 ,  0.64,  0.68,  0.72,  0.76,\n",
              "         0.8 ,  0.84,  0.88,  0.92,  0.96,  1.  ]),\n",
              " <BarContainer object of 50 artists>)"
            ]
          },
          "metadata": {},
          "execution_count": 113
        },
        {
          "output_type": "display_data",
          "data": {
            "text/plain": [
              "<Figure size 640x480 with 1 Axes>"
            ],
            "image/png": "[encoded data removed]"
          },
          "metadata": {}
        }
      ]
    },
    {
      "cell_type": "code",
      "source": [
        "#white = True which means h값이 1또는 -1  , black = False\n",
        "#white 는 모두 dead neuron\n",
        "#sigmoid도 비슷함 vanishing gradient\n",
        "#relu 는 x>0이상에서는 잘 작동하지만 learning rate가 너무 커서 0이하로 내려가면\n",
        "#remaining state forever\n",
        "#혹시 모르니 leaky Relu 와 elu를 쓰자\n",
        "plt.figure(figsize=(20,10))\n",
        "plt.imshow(h.abs()>0.99,cmap='gray',interpolation='nearest')"
      ],
      "metadata": {
        "colab": {
          "base_uri": "https://localhost:8080/",
          "height": 150
        },
        "id": "BSyI8D9_Y5bU",
        "outputId": "f7cdb785-fae9-45fa-faf6-0a40201f6768"
      },
      "execution_count": null,
      "outputs": [
        {
          "output_type": "execute_result",
          "data": {
            "text/plain": [
              "<matplotlib.image.AxesImage at 0x7a714de4ccd0>"
            ]
          },
          "metadata": {},
          "execution_count": 114
        },
        {
          "output_type": "display_data",
          "data": {
            "text/plain": [
              "<Figure size 2000x1000 with 1 Axes>"
            ],
            "image/png": "[encoded data removed]"
          },
          "metadata": {}
        }
      ]
    },
    {
      "cell_type": "code",
      "source": [
        "plt.hist(hpreact.view(-1).tolist(),50)"
      ],
      "metadata": {
        "colab": {
          "base_uri": "https://localhost:8080/",
          "height": 760
        },
        "id": "mquUdZzh3loo",
        "outputId": "a90d8e83-9427-45f8-808a-f4261d9d09f4"
      },
      "execution_count": null,
      "outputs": [
        {
          "output_type": "execute_result",
          "data": {
            "text/plain": [
              "(array([  3.,   1.,   0.,   6.,   5.,  12.,   9.,  20.,  31.,  51.,  66.,\n",
              "         80.,  90., 131., 130., 200., 212., 286., 355., 409., 410., 351.,\n",
              "        263., 293., 375., 432., 406., 347., 285., 236., 178., 182., 130.,\n",
              "        110.,  84.,  64.,  48.,  33.,  28.,  17.,   8.,   5.,   8.,   0.,\n",
              "          4.,   0.,   0.,   5.,   0.,   1.]),\n",
              " array([-22.44412613, -21.45994926, -20.4757724 , -19.49159554,\n",
              "        -18.50741867, -17.52324181, -16.53906494, -15.55488808,\n",
              "        -14.57071121, -13.58653435, -12.60235748, -11.61818062,\n",
              "        -10.63400375,  -9.64982689,  -8.66565002,  -7.68147316,\n",
              "         -6.6972963 ,  -5.71311943,  -4.72894257,  -3.7447657 ,\n",
              "         -2.76058884,  -1.77641197,  -0.79223511,   0.19194176,\n",
              "          1.17611862,   2.16029549,   3.14447235,   4.12864922,\n",
              "          5.11282608,   6.09700294,   7.08117981,   8.06535667,\n",
              "          9.04953354,  10.0337104 ,  11.01788727,  12.00206413,\n",
              "         12.986241  ,  13.97041786,  14.95459473,  15.93877159,\n",
              "         16.92294846,  17.90712532,  18.89130219,  19.87547905,\n",
              "         20.85965591,  21.84383278,  22.82800964,  23.81218651,\n",
              "         24.79636337,  25.78054024,  26.7647171 ]),\n",
              " <BarContainer object of 50 artists>)"
            ]
          },
          "metadata": {},
          "execution_count": 115
        },
        {
          "output_type": "display_data",
          "data": {
            "text/plain": [
              "<Figure size 640x480 with 1 Axes>"
            ],
            "image/png": "[encoded data removed]"
          },
          "metadata": {}
        }
      ]
    },
    {
      "cell_type": "code",
      "source": [
        "plt.plot(lossi)\n",
        "#하키 스틱 모양인데 처음 loss를 줄이면 더 빠르지 않을까?\n",
        "#logit을 줄이면 됨 logit = h @ w2 + b2 임으로\n",
        "#                 logit = h @ w2*0.01 + b2*0"
      ],
      "metadata": {
        "colab": {
          "base_uri": "https://localhost:8080/",
          "height": 447
        },
        "id": "OFHor-F2p4LN",
        "outputId": "f1d5d0fd-4ccc-4d17-a9be-50e85ead9ab7"
      },
      "execution_count": null,
      "outputs": [
        {
          "output_type": "execute_result",
          "data": {
            "text/plain": [
              "[<matplotlib.lines.Line2D at 0x7a714a179300>]"
            ]
          },
          "metadata": {},
          "execution_count": 116
        },
        {
          "output_type": "display_data",
          "data": {
            "text/plain": [
              "<Figure size 640x480 with 1 Axes>"
            ],
            "image/png": "[encoded data removed]"
          },
          "metadata": {}
        }
      ]
    },
    {
      "cell_type": "code",
      "source": [
        "#with torch.no_grad():\n",
        " # emb = C[xtr]\n",
        " # embcat = emb.view(emb.shape[0],-1)\n",
        " # hpreact = emb @ W1 + b1\n",
        " # bnmean = hpreact.mean(0,keepdim=True)\n",
        " # bnstd = hpreact.std(0,keepdim=True)\n",
        "\n",
        "#optimizer과 관련 없게 이걸 따로 입력해야 했으나 bnmean_running으로 대체\n"
      ],
      "metadata": {
        "id": "vFwPKDiVTTe1"
      },
      "execution_count": null,
      "outputs": []
    },
    {
      "cell_type": "code",
      "source": [
        "@torch.no_grad()\n",
        "def split_loss(split):\n",
        "  x,y ={\n",
        "      'train' : (xtr,ytr),\n",
        "      'val' : (xval,yval),\n",
        "      'test' : (xtest,ytest)\n",
        "  }[split]\n",
        "  emb = C[x]\n",
        "  embcat = emb.view(emb.shape[0],-1)\n",
        "  h= torch.tanh(embcat @ W1 + b1)\n",
        "  logits = h @ W2 +b2\n",
        "  loss = F.cross_entropy(logits,y)\n",
        "  print(split,loss.item())"
      ],
      "metadata": {
        "id": "Yej937X01lKJ"
      },
      "execution_count": null,
      "outputs": []
    },
    {
      "cell_type": "code",
      "source": [
        "#이진욱의 호기심 천국 below"
      ],
      "metadata": {
        "id": "BfosA7MpdtsC"
      },
      "execution_count": null,
      "outputs": []
    },
    {
      "cell_type": "code",
      "source": [
        "logit = ([1.0,1.0,1.0,1.0])\n",
        "# W @ x + b 어떤 데이터에 특징이 더해진 값\n",
        "probs = F.softmax(logits,dim=0)"
      ],
      "metadata": {
        "id": "UHT_UklxgzsA"
      },
      "execution_count": null,
      "outputs": []
    },
    {
      "cell_type": "code",
      "source": [
        "logits.shape"
      ],
      "metadata": {
        "id": "BgBDBErTatzi"
      },
      "execution_count": null,
      "outputs": []
    },
    {
      "cell_type": "code",
      "source": [
        "logits"
      ],
      "metadata": {
        "id": "0zpn2axrbrZ2"
      },
      "execution_count": null,
      "outputs": []
    },
    {
      "cell_type": "code",
      "source": [
        "yb"
      ],
      "metadata": {
        "id": "iqUm9VQFbskX"
      },
      "execution_count": null,
      "outputs": []
    },
    {
      "cell_type": "code",
      "source": [
        "yb.shape"
      ],
      "metadata": {
        "id": "6QFoihbMbbgw"
      },
      "execution_count": null,
      "outputs": []
    },
    {
      "cell_type": "code",
      "source": [
        "h.shape"
      ],
      "metadata": {
        "id": "MSENDqNWZial"
      },
      "execution_count": null,
      "outputs": []
    },
    {
      "cell_type": "code",
      "source": [
        "h"
      ],
      "metadata": {
        "id": "LaHd0OrAdz2A"
      },
      "execution_count": null,
      "outputs": []
    },
    {
      "cell_type": "code",
      "source": [
        "hpreact.shape"
      ],
      "metadata": {
        "id": "MQwbbMN0ZvY5"
      },
      "execution_count": null,
      "outputs": []
    },
    {
      "cell_type": "code",
      "source": [
        "hpreact"
      ],
      "metadata": {
        "id": "qGmmxph-d27y"
      },
      "execution_count": null,
      "outputs": []
    },
    {
      "cell_type": "code",
      "source": [
        "xb.shape"
      ],
      "metadata": {
        "id": "E6h231JjTw9i"
      },
      "execution_count": null,
      "outputs": []
    },
    {
      "cell_type": "code",
      "source": [
        "emb.shape"
      ],
      "metadata": {
        "id": "BvN54y8ZS6fz"
      },
      "execution_count": null,
      "outputs": []
    },
    {
      "cell_type": "code",
      "source": [
        "embconcat.shape"
      ],
      "metadata": {
        "id": "d_rTlxGxUmS9"
      },
      "execution_count": null,
      "outputs": []
    },
    {
      "cell_type": "code",
      "source": [],
      "metadata": {
        "id": "qqo_cbwqx8DB"
      },
      "execution_count": null,
      "outputs": []
    }
  ]
}