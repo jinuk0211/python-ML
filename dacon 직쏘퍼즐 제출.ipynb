{
  "nbformat": 4,
  "nbformat_minor": 0,
  "metadata": {
    "colab": {
      "provenance": []
    },
    "kernelspec": {
      "name": "python3",
      "display_name": "Python 3"
    },
    "language_info": {
      "name": "python"
    }
  },
  "cells": [
    {
      "cell_type": "code",
      "source": [
        "!pip install pandas\n",
        "!pip install timm\n",
        "!pip install --upgrade timm"
      ],
      "metadata": {
        "id": "peyRsM3QknxQ"
      },
      "execution_count": null,
      "outputs": []
    },
    {
      "cell_type": "code",
      "source": [
        "from google.colab import drive\n",
        "drive.mount('/content/drive')"
      ],
      "metadata": {
        "colab": {
          "base_uri": "https://localhost:8080/"
        },
        "id": "KN12aRLtfoAM",
        "outputId": "322fff8d-0162-4d0b-a6b5-e0d7b9d76a87"
      },
      "execution_count": 24,
      "outputs": [
        {
          "output_type": "stream",
          "name": "stdout",
          "text": [
            "Drive already mounted at /content/drive; to attempt to forcibly remount, call drive.mount(\"/content/drive\", force_remount=True).\n"
          ]
        }
      ]
    },
    {
      "cell_type": "code",
      "execution_count": 25,
      "metadata": {
        "colab": {
          "base_uri": "https://localhost:8080/"
        },
        "id": "vJXmMN61dTQc",
        "outputId": "7a0d8437-c482-4685-8279-6dde98e2ce6f"
      },
      "outputs": [
        {
          "output_type": "stream",
          "name": "stdout",
          "text": [
            "mkdir: cannot create directory ‘DATA’: File exists\n",
            "replace /content/DATA/sample_submission.csv? [y]es, [n]o, [A]ll, [N]one, [r]ename: "
          ]
        }
      ],
      "source": [
        "!mkdir jigsaw\n",
        "!unzip -qq \"/content/drive/MyDrive/open.zip\" -d /content/jigsaw"
      ]
    },
    {
      "cell_type": "code",
      "source": [
        "import pandas as pd\n",
        "df =pd.read_csv('train.csv')\n",
        "print(df.iloc[13:16])\n",
        "row = df.iloc[3]\n",
        "# image = read_image(os.path.join(self.data_path, row['img_path']))\n",
        "#train.csv의 jigsaw puzzle 풀기전 order\n",
        "preseq = row[[str(i) for i in range(1, 17)]].values-1"
      ],
      "metadata": {
        "colab": {
          "base_uri": "https://localhost:8080/"
        },
        "id": "NJQMGy2ZvG12",
        "outputId": "08383f1b-9863-41d7-eec5-5ea1e5eb80c4"
      },
      "execution_count": 9,
      "outputs": [
        {
          "output_type": "stream",
          "name": "stdout",
          "text": [
            "             ID                 img_path   1   2   3   4   5   6   7   8   9  \\\n",
            "13  TRAIN_00013  ./train/TRAIN_00013.jpg  10   4  11  15   3   9  12   1  16   \n",
            "14  TRAIN_00014  ./train/TRAIN_00014.jpg   3   2  16   1  12   6  14  11   8   \n",
            "15  TRAIN_00015  ./train/TRAIN_00015.jpg  15  14  10  13   6  11   3   2  12   \n",
            "\n",
            "    10  11  12  13  14  15  16  \n",
            "13   8   6  14   7  13   5   2  \n",
            "14   5   9   4  10  15   7  13  \n",
            "15   9   4   7   5   1  16   8  \n"
          ]
        }
      ]
    },
    {
      "cell_type": "code",
      "source": [
        "shuffle_order"
      ],
      "metadata": {
        "colab": {
          "base_uri": "https://localhost:8080/"
        },
        "id": "-s-jCS2Qkgdq",
        "outputId": "775a2c86-eb55-43ac-ec88-1b7b9d8cd558"
      },
      "execution_count": 5,
      "outputs": [
        {
          "output_type": "execute_result",
          "data": {
            "text/plain": [
              "array([13, 0, 5, 14, 8, 3, 7, 4, 15, 9, 12, 6, 1, 2, 10, 11], dtype=object)"
            ]
          },
          "metadata": {},
          "execution_count": 5
        }
      ]
    },
    {
      "cell_type": "code",
      "source": [
        "from PIL import Image\n",
        "image_path = \"DATA/train/TRAIN_00000.jpg\"\n",
        "image = Image.open(image_path)\n",
        "width, height =image.size\n",
        "print(width,height)  #512,512 pixel 사이즈"
      ],
      "metadata": {
        "colab": {
          "base_uri": "https://localhost:8080/"
        },
        "id": "hZ0BbNmYl4h6",
        "outputId": "5bb1f798-b113-4e14-a484-ce5adda745da"
      },
      "execution_count": 29,
      "outputs": [
        {
          "output_type": "stream",
          "name": "stdout",
          "text": [
            "512 512\n"
          ]
        }
      ]
    },
    {
      "cell_type": "code",
      "source": [
        "import timm\n",
        "from timm.data import create_transform\n",
        "from timm.data.constants import IMAGENET_DEFAULT_MEAN, IMAGENET_DEFAULT_STD\n",
        "class model(nn.Module):\n",
        "  deit = timm.create_model('deit_base_distilled_patch16_384', pretrained = True)\n",
        "  # teacher-student strategy 학생이 선생님의 attention 학습\n",
        "  # distilled patch embedding Conv2d(3, 768, kernel_size=(16, 16), stride=(16, 16))\n",
        "  pass\n",
        "\n"
      ],
      "metadata": {
        "id": "o9sFFnsiz_hj"
      },
      "execution_count": null,
      "outputs": []
    },
    {
      "cell_type": "code",
      "source": [
        "import torch\n",
        "import torch.nn as nn\n",
        "import torch.optim as optim\n",
        "import albumentations as A\n",
        "from albumentations.pytorch import ToTensorV2\n",
        "from tqdm import tqdm\n",
        "\n",
        "def imgtransform():\n",
        "  transform = A.Compose(\n",
        "      [A.Resize(height =image_height,width=image_width),\n",
        "       A.Rotate(limit=35,p=1.0),  #0~35의 randn에서 angle 결정, 100%확률 적용\n",
        "       A.HorizontalFlip(p=0.5), #50%확률로 가로 뒤집기\n",
        "       A.VerticalFlip(p=0.1),\n",
        "       A.Normalize(mean=[0.0,0.0,0.0],#이미지 데이터 정규화\n",
        "                   std=[1.0,1.0,1.0],\n",
        "                   max_pixel_value=255.0),ToTensorV2()#이미지를 tensor화시킴\n",
        "      ])"
      ],
      "metadata": {
        "id": "4YyFQ8UDarvl"
      },
      "execution_count": 42,
      "outputs": []
    },
    {
      "cell_type": "code",
      "source": [
        "from torch.utils.data import DataLoader,Dataset\n",
        "class jigsawdataset(Dataset):\n",
        "  def __init__(self,imagedir,transform=None):\n",
        "    self.imagedir = imagedir\n",
        "    self.transform = transform\n",
        "    self.images = os.listdir(imagedir)\n",
        "\n",
        "  def __len__(self):\n",
        "    return len(self.images)\n",
        "\n",
        "  def __getitem__(self,idx):\n",
        "    #dataloader가 데이터 로드할떄 __getitem__호출하며 idx가 내부적으로 제공\n",
        ""
      ],
      "metadata": {
        "id": "QCcMYhML4q_y"
      },
      "execution_count": 46,
      "outputs": []
    },
    {
      "cell_type": "code",
      "source": [
        "def get_loaders\n",
        "()"
      ],
      "metadata": {
        "id": "O_0mD8cJjmWI"
      },
      "execution_count": null,
      "outputs": []
    },
    {
      "cell_type": "code",
      "source": [
        "def calc_puzzle(answer_df, submission_df):\n",
        "    # Check for missing values in submission_df\n",
        "    if submission_df.isnull().values.any():\n",
        "        raise ValueError(\"The submission dataframe contains missing values.\")\n",
        "\n",
        "    # Public or Private answer Sample and Sorting by 'ID'\n",
        "    submission_df = submission_df[submission_df.iloc[:, 0].isin(answer_df.iloc[:, 0])]\n",
        "    submission_df = submission_df.sort_values(by='ID').reset_index(drop=True)\n",
        "\n",
        "    # Check for length in submission_df\n",
        "    if len(submission_df) != len(answer_df):\n",
        "        raise ValueError(\"The submission dataframe wrong length.\")\n",
        "\n",
        "    # Convert position data to numpy arrays for efficient computation\n",
        "    answer_positions = answer_df.iloc[:, 2:].to_numpy()  # Excluding ID, img_path, and type columns\n",
        "    submission_positions = submission_df.iloc[:, 1:].to_numpy()  # Excluding ID column\n",
        "\n",
        "    # Initialize the dictionary to hold accuracies\n",
        "    accuracies = {}\n",
        "\n",
        "    # Define combinations for 2x2 and 3x3 puzzles\n",
        "    combinations_2x2 = [(i, j) for i in range(3) for j in range(3)]\n",
        "    combinations_3x3 = [(i, j) for i in range(2) for j in range(2)]\n",
        "\n",
        "    # 1x1 Puzzle Accuracy\n",
        "    accuracies['1x1'] = np.mean(answer_positions == submission_positions)\n",
        "\n",
        "    # Calculate accuracies for 2x2, 3x3, and 4x4 puzzles\n",
        "    for size in range(2, 5):  # Loop through sizes 2, 3, 4\n",
        "        correct_count = 0  # Initialize counter for correct full sub-puzzles\n",
        "        total_subpuzzles = 0\n",
        "\n",
        "        # Iterate through each sample's puzzle\n",
        "        for i in range(len(answer_df)):\n",
        "            puzzle_a = answer_positions[i].reshape(4, 4)\n",
        "            puzzle_s = submission_positions[i].reshape(4, 4)\n",
        "            combinations = combinations_2x2 if size == 2 else combinations_3x3 if size == 3 else [(0, 0)]\n",
        "\n",
        "            # Calculate the number of correct sub-puzzles for this size within a 4x4\n",
        "            for start_row, start_col in combinations:\n",
        "                rows = slice(start_row, start_row + size)\n",
        "                cols = slice(start_col, start_col + size)\n",
        "                if np.array_equal(puzzle_a[rows, cols], puzzle_s[rows, cols]):\n",
        "                    correct_count += 1\n",
        "                total_subpuzzles += 1\n",
        "\n",
        "        accuracies[f'{size}x{size}'] = correct_count / total_subpuzzles\n",
        "\n",
        "    score = (accuracies['1x1'] + accuracies['2x2'] + accuracies['3x3'] + accuracies['4x4']) / 4.\n",
        "    return score"
      ],
      "metadata": {
        "id": "xwDd6ycKhfQC"
      },
      "execution_count": null,
      "outputs": []
    },
    {
      "cell_type": "code",
      "source": [
        "import PIL\n",
        "from torchvision import datasets, transforms\n",
        "t=[]\n",
        "t.append(transforms.Resize(size, interpolation=PIL.Image.BICUBIC))"
      ],
      "metadata": {
        "id": "KKNYNIarAO0v"
      },
      "execution_count": null,
      "outputs": []
    },
    {
      "cell_type": "code",
      "source": [
        "# Copyright (c) Meta Platforms, Inc. and affiliates.\n",
        "# All rights reserved.\n",
        "\n",
        "# This source code is licensed under the license found in the\n",
        "# LICENSE file in the root directory of this source tree.\n",
        "# --------------------------------------------------------\n",
        "# References:\n",
        "# timm: https://github.com/rwightman/pytorch-image-models/tree/master/timm\n",
        "# DeiT: https://github.com/facebookresearch/deit\n",
        "# --------------------------------------------------------\n"
      ],
      "metadata": {
        "id": "JSlX1jb3uhnG"
      },
      "execution_count": null,
      "outputs": []
    },
    {
      "cell_type": "code",
      "source": [
        "shuffle_order = row[[str(i) for i in range(1, 17)]].values-1\n",
        "shuffle_order"
      ],
      "metadata": {
        "colab": {
          "base_uri": "https://localhost:8080/",
          "height": 193
        },
        "id": "9VCr8bH2H_mt",
        "outputId": "a2ee7f05-2501-446a-b15f-74a16360b0ea"
      },
      "execution_count": 45,
      "outputs": [
        {
          "output_type": "error",
          "ename": "NameError",
          "evalue": "name 'row' is not defined",
          "traceback": [
            "\u001b[0;31m---------------------------------------------------------------------------\u001b[0m",
            "\u001b[0;31mNameError\u001b[0m                                 Traceback (most recent call last)",
            "\u001b[0;32m<ipython-input-45-225f4b98d437>\u001b[0m in \u001b[0;36m<cell line: 1>\u001b[0;34m()\u001b[0m\n\u001b[0;32m----> 1\u001b[0;31m \u001b[0mshuffle_order\u001b[0m \u001b[0;34m=\u001b[0m \u001b[0mrow\u001b[0m\u001b[0;34m[\u001b[0m\u001b[0;34m[\u001b[0m\u001b[0mstr\u001b[0m\u001b[0;34m(\u001b[0m\u001b[0mi\u001b[0m\u001b[0;34m)\u001b[0m \u001b[0;32mfor\u001b[0m \u001b[0mi\u001b[0m \u001b[0;32min\u001b[0m \u001b[0mrange\u001b[0m\u001b[0;34m(\u001b[0m\u001b[0;36m1\u001b[0m\u001b[0;34m,\u001b[0m \u001b[0;36m17\u001b[0m\u001b[0;34m)\u001b[0m\u001b[0;34m]\u001b[0m\u001b[0;34m]\u001b[0m\u001b[0;34m.\u001b[0m\u001b[0mvalues\u001b[0m\u001b[0;34m-\u001b[0m\u001b[0;36m1\u001b[0m\u001b[0;34m\u001b[0m\u001b[0;34m\u001b[0m\u001b[0m\n\u001b[0m\u001b[1;32m      2\u001b[0m \u001b[0mshuffle_order\u001b[0m\u001b[0;34m\u001b[0m\u001b[0;34m\u001b[0m\u001b[0m\n",
            "\u001b[0;31mNameError\u001b[0m: name 'row' is not defined"
          ]
        }
      ]
    }
  ]
}